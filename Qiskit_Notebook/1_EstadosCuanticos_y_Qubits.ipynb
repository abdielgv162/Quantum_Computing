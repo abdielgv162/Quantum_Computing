{
 "cells": [
  {
   "cell_type": "markdown",
   "metadata": {
    "toc": true
   },
   "source": [
    "<h1>Tabla de contenidos 💜<span class=\"tocSkip\"></span></h1>\n",
    "<div class=\"toc\"><ul class=\"toc-item\"><li><span><a href=\"#1.-Qubits-y-estados-cuánticos\" data-toc-modified-id=\"1.-Qubits-y-estados-cuánticos-1\">1. Qubits y estados cuánticos</a></span><ul class=\"toc-item\"><li><span><a href=\"#1.2-Los-átomos-de-la-computación\" data-toc-modified-id=\"1.2-Los-átomos-de-la-computación-1.1\">1.2 Los átomos de la computación</a></span><ul class=\"toc-item\"><li><span><a href=\"#1.-Dividiendo-la-información-en-bits\" data-toc-modified-id=\"1.-Dividiendo-la-información-en-bits-1.1.1\">1. Dividiendo la información en bits</a></span></li><li><span><a href=\"#2.Computación-como-un-diagrama\" data-toc-modified-id=\"2.Computación-como-un-diagrama-1.1.2\">2.Computación como un diagrama</a></span></li><li><span><a href=\"#3.-Creando-nuestro-primer-circuito-cuántico\" data-toc-modified-id=\"3.-Creando-nuestro-primer-circuito-cuántico-1.1.3\">3. Creando nuestro primer circuito cuántico</a></span></li><li><span><a href=\"#4.-Ejemplo:-Creando-un-circuito-Sumador\" data-toc-modified-id=\"4.-Ejemplo:-Creando-un-circuito-Sumador-1.1.4\">4. Ejemplo: Creando un circuito Sumador</a></span><ul class=\"toc-item\"><li><span><a href=\"#4.1-Codificando-el-input\" data-toc-modified-id=\"4.1-Codificando-el-input-1.1.4.1\">4.1 Codificando el input</a></span></li><li><span><a href=\"#4.2-Recordando-como-sumar\" data-toc-modified-id=\"4.2-Recordando-como-sumar-1.1.4.2\">4.2 Recordando como sumar</a></span></li><li><span><a href=\"#4.3-Medio-sumador-en-Qiskit\" data-toc-modified-id=\"4.3-Medio-sumador-en-Qiskit-1.1.4.3\">4.3 Medio sumador en Qiskit</a></span></li></ul></li></ul></li><li><span><a href=\"#1.2-Representando-los-estados-de-nuestros-Qubits\" data-toc-modified-id=\"1.2-Representando-los-estados-de-nuestros-Qubits-1.2\">1.2 Representando los estados de nuestros Qubits</a></span></li></ul></li></ul></div>"
   ]
  },
  {
   "cell_type": "code",
   "execution_count": 1,
   "metadata": {},
   "outputs": [
    {
     "data": {
      "text/plain": [
       "{'qiskit-terra': '0.17.3', 'qiskit-aer': '0.8.2', 'qiskit-ignis': '0.6.0', 'qiskit-ibmq-provider': '0.13.1', 'qiskit-aqua': '0.9.1', 'qiskit': '0.26.0', 'qiskit-nature': None, 'qiskit-finance': None, 'qiskit-optimization': None, 'qiskit-machine-learning': None}"
      ]
     },
     "execution_count": 1,
     "metadata": {},
     "output_type": "execute_result"
    }
   ],
   "source": [
    "# Importa Qistkit y verifica la versión\n",
    "import qiskit\n",
    "qiskit.__qiskit_version__"
   ]
  },
  {
   "cell_type": "markdown",
   "metadata": {},
   "source": [
    "# 1. Qubits y estados cuánticos"
   ]
  },
  {
   "cell_type": "markdown",
   "metadata": {},
   "source": [
    "En las computadoras de superconductores (y en algunos otros métodos) obtenemos nuestros qubits a partir del **spin** de nuestros electrones. Ya que en sí mismo es un sistema de 2 estados que están bien definidos (spin arriba / spin abajo) y esto nos facilita mucho el proceso de cómputo.\n",
    "\n",
    "Un qubit se suele representar de forma geométrica dentro de una **esfera de Bloch** como la siguiente."
   ]
  },
  {
   "cell_type": "markdown",
   "metadata": {},
   "source": [
    "![](https://qiskit.org/textbook/ch-states/images/bloch.png)"
   ]
  },
  {
   "cell_type": "markdown",
   "metadata": {},
   "source": [
    "Está esfera representa nuestro Qubit como un vector dentro de una esfera que habita dentro de un **espacio de Hilbert** (nos deja trabajar más fácil con algebra lineal y ciertos productos que necesitamos)."
   ]
  },
  {
   "cell_type": "markdown",
   "metadata": {},
   "source": [
    "Hay que tener presente esta esfera ya que a partir de ella es muy fácil interpretar más adelante como afectan las compuertas cuánticas a nuestros estados."
   ]
  },
  {
   "cell_type": "markdown",
   "metadata": {},
   "source": [
    "## 1.2 Los átomos de la computación"
   ]
  },
  {
   "cell_type": "markdown",
   "metadata": {},
   "source": [
    "Vamos a importar las librerías necesarias para trabajar"
   ]
  },
  {
   "cell_type": "code",
   "execution_count": 2,
   "metadata": {},
   "outputs": [],
   "source": [
    "from qiskit import QuantumCircuit, assemble, Aer\n",
    "from qiskit.visualization import plot_histogram"
   ]
  },
  {
   "cell_type": "markdown",
   "metadata": {},
   "source": [
    "### 1. Dividiendo la información en bits"
   ]
  },
  {
   "cell_type": "markdown",
   "metadata": {},
   "source": [
    "Primero, vamos a conceptualizar la idea de bits. Vamos a interpretarlos como si fuesen una especie de alfabeto, pero donde solo tenemos 2 caracteres, '0' y '1'; y a partir de una combinación de ellos podemos representar cualquier pieza de información."
   ]
  },
  {
   "cell_type": "markdown",
   "metadata": {},
   "source": [
    "Por ello, nuestros bits no son más que números binarios o base 2, de forma que podemos expresar cualquier cantidad utilizando combinaciones de estos 2 símbolos."
   ]
  },
  {
   "cell_type": "markdown",
   "metadata": {},
   "source": [
    "Por ejemplo:"
   ]
  },
  {
   "cell_type": "markdown",
   "metadata": {},
   "source": [
    "$$9213  = (1 \\times 2^{13}) + (0 \\times 2^{12}) + (0 \\times 2^{11})+ (0 \\times 2^{10}) +(1 \\times 2^9) + (1 \\times 2^8) + (1 \\times 2^7) \\\\\\\\ \\,\\,\\,   + (1 \\times 2^6) + (1 \\times 2^5) + (1 \\times 2^4) + (1 \\times 2^3) + (1 \\times 2^2) + (0 \\times 2^1) + (1 \\times 2^0)$$"
   ]
  },
  {
   "cell_type": "markdown",
   "metadata": {},
   "source": [
    "vamos a saltar esta parte que consiste en entender como funciona el sistema binario."
   ]
  },
  {
   "cell_type": "markdown",
   "metadata": {},
   "source": [
    "### 2.Computación como un diagrama"
   ]
  },
  {
   "cell_type": "markdown",
   "metadata": {},
   "source": [
    "Ya se que estemos trabajando con qubits o bits, necesitaremos manipularlos de tal forma que obtengamos una salida dada ciertos valores de entrada. Usualmente facilitamos este proceso al representarlo mediante diagramas, por ejemplo en la versión clásica utilizamos diagramas como el siguiente."
   ]
  },
  {
   "cell_type": "markdown",
   "metadata": {},
   "source": [
    "<div>\n",
    "<img src=\"https://qiskit.org/textbook/ch-states/images/classical_circuit.png\" width=\"500\"/>\n",
    "</div>"
   ]
  },
  {
   "cell_type": "markdown",
   "metadata": {},
   "source": [
    "Que al final no hacen más que indicar el orden en el que se tienen que efectuar ciertas operaciones dentro de dispositivos llamados **compuertas lógicas**. Las cuales realizan ciertas manipulaciones de los estados de entrada para obtener un valor de salida."
   ]
  },
  {
   "cell_type": "markdown",
   "metadata": {},
   "source": [
    "Tenemos también el análogo cuántico, en diagramas que nos indican también las entradas, las operaciones a realizar y finalmente, las salidas que obtenemos de nuestro **circuito cuántico**."
   ]
  },
  {
   "cell_type": "markdown",
   "metadata": {},
   "source": [
    "![](https://qiskit.org/textbook/ch-states/images/quantum_circuit.png)"
   ]
  },
  {
   "cell_type": "markdown",
   "metadata": {},
   "source": [
    "### 3. Creando nuestro primer circuito cuántico"
   ]
  },
  {
   "cell_type": "markdown",
   "metadata": {},
   "source": [
    "En un circuito, típicamente tendremos que realizar 3 trabajos.\n",
    "\n",
    "1. Codificar la entrada.\n",
    "2. Realizar una computación.\n",
    "3. Extraer los valores de salida."
   ]
  },
  {
   "cell_type": "markdown",
   "metadata": {},
   "source": [
    "Por ahora vamos a concentrarnos en este último."
   ]
  },
  {
   "cell_type": "code",
   "execution_count": 3,
   "metadata": {},
   "outputs": [
    {
     "data": {
      "text/plain": [
       "<qiskit.circuit.quantumcircuit.QuantumCircuit at 0x1eac84ddac0>"
      ]
     },
     "execution_count": 3,
     "metadata": {},
     "output_type": "execute_result"
    }
   ],
   "source": [
    "n = 8 # Definimos n aquí, para establecer la cantidad de bits cuánticos a usar.\n",
    "n_q = n # Número de qubits\n",
    "n_b = n # Núero de bits clásicos, donde relizamos las mediciones\n",
    "qc_output = QuantumCircuit(n_q, n_b) # Creamos un circuito cuántico que recibe n qubits y n bits clásicos\n",
    "qc_output # Mandamos a llamar a la variable para ver de que tipo es"
   ]
  },
  {
   "cell_type": "code",
   "execution_count": 4,
   "metadata": {},
   "outputs": [
    {
     "data": {
      "text/html": [
       "<pre style=\"word-wrap: normal;white-space: pre;background: #fff0;line-height: 1.1;font-family: &quot;Courier New&quot;,Courier,monospace\">     \n",
       "q_0: \n",
       "     \n",
       "q_1: \n",
       "     \n",
       "q_2: \n",
       "     \n",
       "q_3: \n",
       "     \n",
       "q_4: \n",
       "     \n",
       "q_5: \n",
       "     \n",
       "q_6: \n",
       "     \n",
       "q_7: \n",
       "     \n",
       "c: 8/\n",
       "     </pre>"
      ],
      "text/plain": [
       "     \n",
       "q_0: \n",
       "     \n",
       "q_1: \n",
       "     \n",
       "q_2: \n",
       "     \n",
       "q_3: \n",
       "     \n",
       "q_4: \n",
       "     \n",
       "q_5: \n",
       "     \n",
       "q_6: \n",
       "     \n",
       "q_7: \n",
       "     \n",
       "c: 8/\n",
       "     "
      ]
     },
     "execution_count": 4,
     "metadata": {},
     "output_type": "execute_result"
    }
   ],
   "source": [
    "qc_output.draw() # Si llamamos al método draw nos dibuja el circuito, predeterminadamente en ASCII"
   ]
  },
  {
   "cell_type": "code",
   "execution_count": 5,
   "metadata": {},
   "outputs": [
    {
     "data": {
      "image/png": "[encoded data removed]",
      "text/plain": [
       "<PIL.Image.Image image mode=RGB size=134x302 at 0x1EA9B563D60>"
      ]
     },
     "execution_count": 5,
     "metadata": {},
     "output_type": "execute_result"
    }
   ],
   "source": [
    "qc_output.draw('latex') # También podemos dibujarlo en LaTeX"
   ]
  },
  {
   "cell_type": "code",
   "execution_count": 6,
   "metadata": {},
   "outputs": [
    {
     "data": {
      "image/png": "[encoded data removed]",
      "text/plain": [
       "<Figure size 116.697x565.88 with 1 Axes>"
      ]
     },
     "execution_count": 6,
     "metadata": {},
     "output_type": "execute_result"
    }
   ],
   "source": [
    "qc_output.draw('mpl') # Si le pasamos 'mpl' para que se vea en un formato bonito"
   ]
  },
  {
   "cell_type": "markdown",
   "metadata": {},
   "source": [
    "Podemos extraer los outputs de nuestro circuito llamando a la instrucción `measure` en cada uno de nuestros qubits. Vamos a ver como podríamos medir todos los qubits con una sola instrucción usando un for loop."
   ]
  },
  {
   "cell_type": "code",
   "execution_count": 7,
   "metadata": {},
   "outputs": [],
   "source": [
    "for j in range(n):\n",
    "    qc_output.measure(j, j)"
   ]
  },
  {
   "cell_type": "code",
   "execution_count": 8,
   "metadata": {},
   "outputs": [
    {
     "data": {
      "image/png": "[encoded data removed]",
      "text/plain": [
       "<Figure size 568.197x565.88 with 1 Axes>"
      ]
     },
     "execution_count": 8,
     "metadata": {},
     "output_type": "execute_result"
    }
   ],
   "source": [
    "qc_output.draw('mpl')"
   ]
  },
  {
   "cell_type": "markdown",
   "metadata": {},
   "source": [
    "Esos cuadritos negros con algo similar a un dial es lo que indica que hicimos nuestras mediciones. Como vemos, hicimos corresponder las mediciones del qubit 0 al bit clásico 0, el qc_1 con el c_1 y así con todos."
   ]
  },
  {
   "cell_type": "markdown",
   "metadata": {},
   "source": [
    "Nuestro qubits siempre estarán inicializados en el estado 0 siempre y cuando no especifiquemos lo contrario. Si nuestro qubit no recibe ninguna interacción de compuertas entonces siempre esperaremos obtener el mismo estado inicial 0 al realizar la medición."
   ]
  },
  {
   "cell_type": "markdown",
   "metadata": {},
   "source": [
    "Algo interesante que podemos hacer es correr nuestro programa varias veces, de forma que obtenemos un conteo de los resultados y hacemos un histograma para tener mayor claridad de las mediciones (ya que muchas veces están sujetas en cierta parte al azar)."
   ]
  },
  {
   "cell_type": "markdown",
   "metadata": {},
   "source": [
    "Vamos a comenzar con nuestro ejemplo anterior que como sabemos, siempre obtendremos 0's ya que no hemos efectuado ninguna operación."
   ]
  },
  {
   "cell_type": "code",
   "execution_count": 10,
   "metadata": {},
   "outputs": [
    {
     "data": {
      "image/png": "[encoded data removed]",
      "text/plain": [
       "<Figure size 504x360 with 1 Axes>"
      ]
     },
     "execution_count": 10,
     "metadata": {},
     "output_type": "execute_result"
    }
   ],
   "source": [
    "# Creamos una variable donde hacemos una llamada a Aer que es uno de los componentes de Qiskit\n",
    "# que nos proporciona simuladores de computación cuántica de alto rendimiento con modelos \n",
    "# realistas de ruido. (como el que sufre una computadora cuántica al perder información)\n",
    "# El simulador qasm requiere de mediciones para funcionar correctamente \n",
    "sim = Aer.get_backend('qasm_simulator')\n",
    "\n",
    "# Convertimos nuestro circuito cuántico en un objeto que nuestro backend sabe ejecutar\n",
    "qobj = assemble(qc_output)\n",
    "\n",
    "# El resultado sera el método .run() de nuestra simulación pasandole el objeto cuántico qobj\n",
    "# y obtenemos el resultado con el método .result()\n",
    "result = sim.run(qobj).result()\n",
    "\n",
    "# Obtenemos el conteo de resultados\n",
    "counts = result.get_counts()\n",
    "\n",
    "# Dibuja el histograma\n",
    "plot_histogram(counts)"
   ]
  },
  {
   "cell_type": "markdown",
   "metadata": {},
   "source": [
    "En este caso obtenemos un resultado de 100% en 000...0, ya que no estamos realizando nada sobre nuestro circuito, pero en ejemplos más complejos tendremos distribuciones de probaiblidad más complejas ya que nuestros circuitos estarán sujetos al azar.\n",
    "\n",
    "Además, en computadores cuánticos reales esto no pasaría, ya que tenemos ruido y ciertos efectos a tener en cuenta como el tiempo de coherencia y de relajación, cosas que por ahora no son de gran importancia, pero hay que tenerlo presente."
   ]
  },
  {
   "cell_type": "markdown",
   "metadata": {},
   "source": [
    "Por lo regular nuestro simuladores contienen un número reducido de qubits $(\\approx 30)$, pero son herramientas muy importantes, especialmente cuando comenzamos a crear nuestros primeros circuitos."
   ]
  },
  {
   "cell_type": "markdown",
   "metadata": {},
   "source": [
    "Cuando queramos probar nuestro circuito en un computador cuántico real solo tendremos que cambiar la instrucción\n",
    "\n",
    "```Pytho\n",
    "Aer.get_backend('qasm_simulator')\n",
    "```"
   ]
  },
  {
   "cell_type": "markdown",
   "metadata": {},
   "source": [
    "colocando el backend (computador) que nos interesa (y cargando nuestras credenciales de IBM si estamos en local)."
   ]
  },
  {
   "cell_type": "markdown",
   "metadata": {},
   "source": [
    "### 4. Ejemplo: Creando un circuito Sumador"
   ]
  },
  {
   "cell_type": "markdown",
   "metadata": {},
   "source": [
    "#### 4.1 Codificando el input"
   ]
  },
  {
   "cell_type": "markdown",
   "metadata": {},
   "source": [
    "Vamos a ver como podríamos codificar cadenas binarias como nuestro input. Primero, necesitaremos saber que es una compuerta **NOT** , Pauli **X** o **Bit flip**. Esta es la operación más básica que podemos hacer en una computadora. Simplemente invierte el valor de entrada (análogo a una NOT clásica):\n",
    "\n",
    "$$\\begin{aligned}\n",
    "NOT: \\\\\n",
    "0 \\rightarrow 1 \\\\\n",
    "1 \\rightarrow 0\n",
    "\\end{aligned}$$"
   ]
  },
  {
   "cell_type": "markdown",
   "metadata": {},
   "source": [
    "Rápidamente recordemos que nuestros qubits se pueden representa como **vectores** y usualmente los denotamos con notación de Dirac para hacer más fácil su manipulación. Se representan de la siguiente forma:"
   ]
  },
  {
   "cell_type": "markdown",
   "metadata": {},
   "source": [
    "$$\\begin{aligned}\n",
    "|0 \\rangle =  \\begin{pmatrix} 1  \\\\ 0\\end{pmatrix}\\\\ \\\\\n",
    "|1 \\rangle = \\begin{pmatrix} 0  \\\\ 1\\end{pmatrix}\\\\\n",
    "\\end{aligned}$$"
   ]
  },
  {
   "cell_type": "markdown",
   "metadata": {},
   "source": [
    "Y nuestras compuertas se pueden representar como matrices unitarias (mueven la dirección de nuestro vector, pero su magnitud se mantiene)."
   ]
  },
  {
   "cell_type": "markdown",
   "metadata": {},
   "source": [
    "Entonces, podemos representar nuestra compuerta **X** como una matriz de la siguiente forma:"
   ]
  },
  {
   "cell_type": "markdown",
   "metadata": {},
   "source": [
    "$$X = \\begin{bmatrix} 0 & 1 \\\\ 1 & 0 \\end{bmatrix}$$"
   ]
  },
  {
   "cell_type": "markdown",
   "metadata": {},
   "source": [
    "La operación entre vector matriz sería de la siguiente forma:"
   ]
  },
  {
   "cell_type": "markdown",
   "metadata": {},
   "source": [
    "$$\\begin{aligned}\n",
    "X|0 \\rangle =  \\begin{pmatrix} 1  \\\\ 0\\end{pmatrix} \\begin{bmatrix} 0 & 1 \\\\ 1 & 0 \\end{bmatrix}\n",
    "&= \\begin{pmatrix} 1\\cdot 0 + 0 \\cdot 1  \\\\ 1\\cdot 1 + 0 \\cdot 0 \\end{pmatrix}  \\\\ \\\\\n",
    "&=\\begin{pmatrix} 0  \\\\ 1\\end{pmatrix}  =|1 \\rangle \n",
    "\\end{aligned}$$"
   ]
  },
  {
   "cell_type": "markdown",
   "metadata": {},
   "source": [
    "En una esfera de Bloch, nuestra compuerta **X** se puede ver de la siguiente forma (omite el código). Primero visualicemos el estado base 0:"
   ]
  },
  {
   "cell_type": "code",
   "execution_count": 11,
   "metadata": {},
   "outputs": [
    {
     "ename": "NameError",
     "evalue": "name 'execute' is not defined",
     "output_type": "error",
     "traceback": [
      "\u001b[1;31m---------------------------------------------------------------------------\u001b[0m",
      "\u001b[1;31mNameError\u001b[0m                                 Traceback (most recent call last)",
      "\u001b[1;32m<ipython-input-11-cc78839a5548>\u001b[0m in \u001b[0;36m<module>\u001b[1;34m\u001b[0m\n\u001b[0;32m      2\u001b[0m \u001b[1;31m#########################\u001b[0m\u001b[1;33m\u001b[0m\u001b[1;33m\u001b[0m\u001b[1;33m\u001b[0m\u001b[0m\n\u001b[0;32m      3\u001b[0m \u001b[0msimulator\u001b[0m \u001b[1;33m=\u001b[0m \u001b[0mAer\u001b[0m\u001b[1;33m.\u001b[0m\u001b[0mget_backend\u001b[0m\u001b[1;33m(\u001b[0m\u001b[1;34m'statevector_simulator'\u001b[0m\u001b[1;33m)\u001b[0m\u001b[1;33m\u001b[0m\u001b[1;33m\u001b[0m\u001b[0m\n\u001b[1;32m----> 4\u001b[1;33m \u001b[0mjob\u001b[0m \u001b[1;33m=\u001b[0m \u001b[0mexecute\u001b[0m\u001b[1;33m(\u001b[0m\u001b[0mqc\u001b[0m\u001b[1;33m,\u001b[0m \u001b[0msimulator\u001b[0m\u001b[1;33m)\u001b[0m\u001b[1;33m\u001b[0m\u001b[1;33m\u001b[0m\u001b[0m\n\u001b[0m\u001b[0;32m      5\u001b[0m \u001b[0mresult\u001b[0m \u001b[1;33m=\u001b[0m \u001b[0mjob\u001b[0m\u001b[1;33m.\u001b[0m\u001b[0mresult\u001b[0m\u001b[1;33m(\u001b[0m\u001b[1;33m)\u001b[0m\u001b[1;33m\u001b[0m\u001b[1;33m\u001b[0m\u001b[0m\n\u001b[0;32m      6\u001b[0m \u001b[0moutputstate\u001b[0m \u001b[1;33m=\u001b[0m \u001b[0mresult\u001b[0m\u001b[1;33m.\u001b[0m\u001b[0mget_statevector\u001b[0m\u001b[1;33m(\u001b[0m\u001b[0mqc\u001b[0m\u001b[1;33m)\u001b[0m\u001b[1;33m\u001b[0m\u001b[1;33m\u001b[0m\u001b[0m\n",
      "\u001b[1;31mNameError\u001b[0m: name 'execute' is not defined"
     ]
    }
   ],
   "source": [
    "qc = QuantumCircuit(1)\n",
    "#########################\n",
    "simulator = Aer.get_backend('statevector_simulator')\n",
    "job = execute(qc, simulator)\n",
    "result = job.result()\n",
    "outputstate = result.get_statevector(qc)\n",
    "plot_bloch_multivector(outputstate)"
   ]
  },
  {
   "cell_type": "markdown",
   "metadata": {},
   "source": [
    "Y después de aplicar la compuerta $X$ se ve así:"
   ]
  },
  {
   "cell_type": "code",
   "execution_count": null,
   "metadata": {},
   "outputs": [],
   "source": [
    "qc = QuantumCircuit(1)\n",
    "qc.x(0)\n",
    "#########################\n",
    "simulator = Aer.get_backend('statevector_simulator')\n",
    "job = execute(qc, simulator)\n",
    "result = job.result()\n",
    "outputstate = result.get_statevector(qc)\n",
    "plot_bloch_multivector(outputstate)"
   ]
  },
  {
   "cell_type": "markdown",
   "metadata": {},
   "source": [
    "Es decir, efectuó un giro de $\\pi$ $ rad$ alrededor del eje x."
   ]
  },
  {
   "cell_type": "markdown",
   "metadata": {},
   "source": [
    "Y la forma de implementarlo en código es tan sencilla como lo siguiente `.x` :"
   ]
  },
  {
   "cell_type": "code",
   "execution_count": null,
   "metadata": {},
   "outputs": [],
   "source": [
    "# Creamos una variable para las entradas\n",
    "n = 8\n",
    "qc_encode = QuantumCircuit(n) # Cricuito cuántico de 8 qubits\n",
    "qc_encode.x(7) # Aplicamos una compuerta CNOT o Pauli X en el qubit de indice 7\n",
    "qc_encode.draw('mpl')"
   ]
  },
  {
   "cell_type": "markdown",
   "metadata": {},
   "source": [
    "De hecho, el circuito anterior lo podemos ver como si fuese todo un registro individual con la cadena $10000000$. Así que ahora podemos hacer un circuito cuántico en donde agreguemos nuestro \"registro\" de entradas codificadas `qc_encode` y agregarle nuestro circuito anterior de `qc_output` que contenia las mediciones en el ejemplo anterior.\n",
    "\n",
    "Podemos juntarlos simplemente haciendo `qc_encode + qc_output`"
   ]
  },
  {
   "cell_type": "code",
   "execution_count": null,
   "metadata": {},
   "outputs": [],
   "source": [
    "qc = qc_encode + qc_output\n",
    "qc.draw('mpl')"
   ]
  },
  {
   "cell_type": "markdown",
   "metadata": {},
   "source": [
    "Ahora, vamos a realizar el histograma de este nuevo circuito."
   ]
  },
  {
   "cell_type": "code",
   "execution_count": 12,
   "metadata": {},
   "outputs": [
    {
     "ename": "QiskitError",
     "evalue": "'No counts for experiment \"0\"'",
     "output_type": "error",
     "traceback": [
      "\u001b[1;31m---------------------------------------------------------------------------\u001b[0m",
      "\u001b[1;31mQiskitError\u001b[0m                               Traceback (most recent call last)",
      "\u001b[1;32m<ipython-input-12-744d3b9997be>\u001b[0m in \u001b[0;36m<module>\u001b[1;34m\u001b[0m\n\u001b[0;32m      4\u001b[0m \u001b[1;31m# ya que se mantienen guardadas las que hicimos anteriormente\u001b[0m\u001b[1;33m\u001b[0m\u001b[1;33m\u001b[0m\u001b[1;33m\u001b[0m\u001b[0m\n\u001b[0;32m      5\u001b[0m \u001b[1;31m# en caso de reiniciar el notebook tendremos que correr todas las lineas anteriores\u001b[0m\u001b[1;33m\u001b[0m\u001b[1;33m\u001b[0m\u001b[1;33m\u001b[0m\u001b[0m\n\u001b[1;32m----> 6\u001b[1;33m \u001b[0mcounts\u001b[0m \u001b[1;33m=\u001b[0m \u001b[0msim\u001b[0m\u001b[1;33m.\u001b[0m\u001b[0mrun\u001b[0m\u001b[1;33m(\u001b[0m\u001b[0mqobj\u001b[0m\u001b[1;33m)\u001b[0m\u001b[1;33m.\u001b[0m\u001b[0mresult\u001b[0m\u001b[1;33m(\u001b[0m\u001b[1;33m)\u001b[0m\u001b[1;33m.\u001b[0m\u001b[0mget_counts\u001b[0m\u001b[1;33m(\u001b[0m\u001b[1;33m)\u001b[0m\u001b[1;33m\u001b[0m\u001b[1;33m\u001b[0m\u001b[0m\n\u001b[0m\u001b[0;32m      7\u001b[0m \u001b[1;33m\u001b[0m\u001b[0m\n\u001b[0;32m      8\u001b[0m \u001b[0mplot_histogram\u001b[0m\u001b[1;33m(\u001b[0m\u001b[0mcounts\u001b[0m\u001b[1;33m)\u001b[0m\u001b[1;33m\u001b[0m\u001b[1;33m\u001b[0m\u001b[0m\n",
      "\u001b[1;32m~\\anaconda3\\lib\\site-packages\\qiskit\\result\\result.py\u001b[0m in \u001b[0;36mget_counts\u001b[1;34m(self, experiment)\u001b[0m\n\u001b[0;32m    279\u001b[0m                 \u001b[0mdict_list\u001b[0m\u001b[1;33m.\u001b[0m\u001b[0mappend\u001b[0m\u001b[1;33m(\u001b[0m\u001b[0mstatevector\u001b[0m\u001b[1;33m.\u001b[0m\u001b[0mStatevector\u001b[0m\u001b[1;33m(\u001b[0m\u001b[0mvec\u001b[0m\u001b[1;33m)\u001b[0m\u001b[1;33m.\u001b[0m\u001b[0mprobabilities_dict\u001b[0m\u001b[1;33m(\u001b[0m\u001b[0mdecimals\u001b[0m\u001b[1;33m=\u001b[0m\u001b[1;36m15\u001b[0m\u001b[1;33m)\u001b[0m\u001b[1;33m)\u001b[0m\u001b[1;33m\u001b[0m\u001b[1;33m\u001b[0m\u001b[0m\n\u001b[0;32m    280\u001b[0m             \u001b[1;32melse\u001b[0m\u001b[1;33m:\u001b[0m\u001b[1;33m\u001b[0m\u001b[1;33m\u001b[0m\u001b[0m\n\u001b[1;32m--> 281\u001b[1;33m                 \u001b[1;32mraise\u001b[0m \u001b[0mQiskitError\u001b[0m\u001b[1;33m(\u001b[0m\u001b[1;34m'No counts for experiment \"{}\"'\u001b[0m\u001b[1;33m.\u001b[0m\u001b[0mformat\u001b[0m\u001b[1;33m(\u001b[0m\u001b[0mrepr\u001b[0m\u001b[1;33m(\u001b[0m\u001b[0mkey\u001b[0m\u001b[1;33m)\u001b[0m\u001b[1;33m)\u001b[0m\u001b[1;33m)\u001b[0m\u001b[1;33m\u001b[0m\u001b[1;33m\u001b[0m\u001b[0m\n\u001b[0m\u001b[0;32m    282\u001b[0m \u001b[1;33m\u001b[0m\u001b[0m\n\u001b[0;32m    283\u001b[0m         \u001b[1;31m# Return first item of dict_list if size is 1\u001b[0m\u001b[1;33m\u001b[0m\u001b[1;33m\u001b[0m\u001b[1;33m\u001b[0m\u001b[0m\n",
      "\u001b[1;31mQiskitError\u001b[0m: 'No counts for experiment \"0\"'"
     ]
    }
   ],
   "source": [
    "qobj = assemble(qc) # Lo hacemos reconocible para el simulador\n",
    "\n",
    "# Vemos que ya no escribirmos las variables sim y result\n",
    "# ya que se mantienen guardadas las que hicimos anteriormente\n",
    "# en caso de reiniciar el notebook tendremos que correr todas las lineas anteriores\n",
    "counts = sim.run(qobj).result().get_counts()\n",
    "\n",
    "plot_histogram(counts)"
   ]
  },
  {
   "cell_type": "markdown",
   "metadata": {},
   "source": [
    "Como esperabamos, obtenemos la cadena $10000000$ con gran seguridad. Aquí al ser un simulador idealmente tenemos el 100%, pero en un computador real podríamos tener cierto ruido aunque sería muy pequeño ya que solo usamos una compuerta. También podemos ver que el qubit $n-$ésimo sería el más significativo."
   ]
  },
  {
   "cell_type": "markdown",
   "metadata": {},
   "source": [
    "Ahora vamos a codificar otro número:"
   ]
  },
  {
   "cell_type": "code",
   "execution_count": null,
   "metadata": {},
   "outputs": [],
   "source": [
    "n = 8\n",
    "qc_encode = QuantumCircuit(n)\n",
    "qc_encode.x(1)\n",
    "qc_encode.x(3)\n",
    "qc_encode.x(5)\n",
    "qc_encode.x(7)\n",
    "\n",
    "qc_encode.draw('mpl')"
   ]
  },
  {
   "cell_type": "markdown",
   "metadata": {},
   "source": [
    "Ya sabemos codificar información ahora vamos a dar el siguiente paso, trabajar con esa entrada y obtener un resultado."
   ]
  },
  {
   "cell_type": "markdown",
   "metadata": {},
   "source": [
    "#### 4.2 Recordando como sumar"
   ]
  },
  {
   "cell_type": "markdown",
   "metadata": {},
   "source": [
    "Resumidamente, vamos a requerir de nuestros bits a sumar y de un bit **carry** o de acarreo para mantener ahí los números que \"recorreremos\" a la izquierda al sumar $1+1$ en binario.\n",
    "\n",
    "Lo cual resumimos en una operación XOR (para 2 bits o para el medio sumador) y una AND para leer los datos de salida."
   ]
  },
  {
   "cell_type": "markdown",
   "metadata": {},
   "source": [
    "#### 4.3 Medio sumador en Qiskit"
   ]
  },
  {
   "cell_type": "markdown",
   "metadata": {},
   "source": [
    "Imaginemos el algoritmo que tendremos que realizar para crear un medio sumador:\n",
    "* Obtenemos las entradas codificadas.\n",
    "* Hacemos operaciones sobre ellas.\n",
    "* Realizamos mediciones.\n",
    "* Obtenemos el resultado."
   ]
  },
  {
   "cell_type": "markdown",
   "metadata": {},
   "source": [
    "![](https://qiskit.org/textbook/ch-states/images/half-adder.svg)"
   ]
  },
  {
   "cell_type": "markdown",
   "metadata": {},
   "source": [
    "De esta forma para obtener diferentes outputs solo tendremos que cambiar la codificación de los outputs y el resto del código se mantendrá igual."
   ]
  },
  {
   "cell_type": "markdown",
   "metadata": {},
   "source": [
    "Vamos a codificar nuestros 2 bits a sumar en los qubits 0 y 1. En el ejemplo anterior tenemos el caso de la suma 1+1, y como el resultado es 10 tendremos que separar 2 bits para realizar la lectura, aquí es donde entran en juego `q2` y `q3`"
   ]
  },
  {
   "cell_type": "markdown",
   "metadata": {},
   "source": [
    "Las lineas punteadas que se ven en el circuito solo son barreras que nos permite separar el circuito para que sea más fácil de visualizar cada una de sus partes, para ello utilizamos el comando `barrier`."
   ]
  },
  {
   "cell_type": "markdown",
   "metadata": {},
   "source": [
    "Entonces, sabemos que nuestra implementación para este medio sumador se reduce a construir una XOR, pero utilizando compuertas cuánticas y qubits."
   ]
  },
  {
   "cell_type": "markdown",
   "metadata": {},
   "source": [
    "Recordemos la tablita de la XOR:"
   ]
  },
  {
   "cell_type": "markdown",
   "metadata": {},
   "source": [
    "<div>\n",
    "<img src=\"https://i.imgur.com/CxUTWrJ.png\" width=\"500\"/>\n",
    "</div>"
   ]
  },
  {
   "cell_type": "markdown",
   "metadata": {},
   "source": [
    "Donde vemos que mientras uno de los bits sea 1, entonces la salida es 1; mientras que si ambos son 0 o ambos son 1, entonces obtenemos un 0."
   ]
  },
  {
   "cell_type": "markdown",
   "metadata": {},
   "source": [
    "Aquí es de gran utilidad otra compuerta llamada **Controlled not** o **CNOT**, la cuál es una compuerta de 2-bits (por ello es una matriz 4x4, ya que $2^2=4$) que actúa sobre un **bit de control** y un **bit objetivo**.\n",
    "\n",
    "El funcionamiento es el siguiente, si el **bit de control** está en 1 entonces aplica una compuerta $X$ al **bit objetivo**. De no ser así, no hagas nada."
   ]
  },
  {
   "cell_type": "markdown",
   "metadata": {},
   "source": [
    "Se representa de la siguiente forma:"
   ]
  },
  {
   "cell_type": "code",
   "execution_count": 13,
   "metadata": {},
   "outputs": [
    {
     "data": {
      "image/png": "[encoded data removed]",
      "text/plain": [
       "<Figure size 146.652x144.48 with 1 Axes>"
      ]
     },
     "execution_count": 13,
     "metadata": {},
     "output_type": "execute_result"
    }
   ],
   "source": [
    "qc = QuantumCircuit(2)\n",
    "qc.cnot(0,1)\n",
    "qc.draw('mpl')"
   ]
  },
  {
   "cell_type": "markdown",
   "metadata": {},
   "source": [
    "Donde `q0` es el bit de control y `q1` es el bit objetivo."
   ]
  },
  {
   "cell_type": "markdown",
   "metadata": {},
   "source": [
    "Y esta compuerta está representada por la siguiente matriz:"
   ]
  },
  {
   "cell_type": "markdown",
   "metadata": {},
   "source": [
    "$$\\text{CNOT} =\n",
    "\\begin{bmatrix} 1 & 0 & 0 & 0 \\\\ 0 & 1 & 0 & 0 \\\\ 0 & 0 & 0 & 1 \\\\ 0 & 0 & 1 & 0\\end{bmatrix}\n",
    "$$"
   ]
  },
  {
   "cell_type": "markdown",
   "metadata": {},
   "source": [
    "realmente no utilizaremos esta matriz, pero es bueno conocerla."
   ]
  },
  {
   "cell_type": "markdown",
   "metadata": {},
   "source": [
    "Podemos visualizar a la CNOT de la siguiente forma:"
   ]
  },
  {
   "cell_type": "markdown",
   "metadata": {},
   "source": [
    "![](https://qiskit.org/textbook/ch-states/images/cnot_xor.svg)"
   ]
  },
  {
   "cell_type": "markdown",
   "metadata": {},
   "source": [
    "Y la podemos implementar de la siguiente forma con `cnot` o `cx`:"
   ]
  },
  {
   "cell_type": "code",
   "execution_count": 14,
   "metadata": {},
   "outputs": [
    {
     "data": {
      "image/png": "[encoded data removed]",
      "text/plain": [
       "<Figure size 327.252x204.68 with 1 Axes>"
      ]
     },
     "execution_count": 14,
     "metadata": {},
     "output_type": "execute_result"
    }
   ],
   "source": [
    "qc = QuantumCircuit(2,2)\n",
    "### Codifica las entradas ##\n",
    "qc.x(0)\n",
    "###########################\n",
    "qc.cx(0,1)\n",
    "qc.measure(0,0)\n",
    "qc.measure(1,1)\n",
    "qc.draw('mpl')"
   ]
  },
  {
   "cell_type": "markdown",
   "metadata": {},
   "source": [
    "Así que podríamos describir su comportamiento en la siguiente tabla:"
   ]
  },
  {
   "cell_type": "markdown",
   "metadata": {},
   "source": [
    "<div>\n",
    "<img src=\"https://i.imgur.com/kbcj6NX.png\" width=\"500\"/>\n",
    "</div>"
   ]
  },
  {
   "cell_type": "markdown",
   "metadata": {},
   "source": [
    "Vamos a ver la implementación del medio sumador.\n",
    "\n",
    "* Queremos 2 bits para operar y 2 qubits para leer.\n",
    "* Usaremos solo 2 bits clásicos ya que vamos a medir una cadena de 2 bits.\n",
    "* Usaremos 2 CNOTs ya que queremos llevar el resultado de las sumas a 2 qubits distintos (y no sobrescribir), por lo que aplicaremos 1 CNOT respecto a cada qubit de lectura."
   ]
  },
  {
   "cell_type": "code",
   "execution_count": 15,
   "metadata": {},
   "outputs": [
    {
     "data": {
      "image/png": "[encoded data removed]",
      "text/plain": [
       "<Figure size 387.597x325.08 with 1 Axes>"
      ]
     },
     "execution_count": 15,
     "metadata": {},
     "output_type": "execute_result"
    }
   ],
   "source": [
    "# 4 qubits y 2 clásicos para leer el resultado\n",
    "qc_ha = QuantumCircuit(4,2)\n",
    "\n",
    "# Codificamos entradas\n",
    "qc_ha.x(0)\n",
    "\n",
    "# Dividimos con una barrera en todos los bits\n",
    "qc_ha.barrier() \n",
    "\n",
    "# CNOTs para sumar, invertimos los control y target en cada uno \n",
    "qc_ha.cx(0,2)\n",
    "qc_ha.cx(1,2)\n",
    "\n",
    "# Dividimos con una barrera en todos los bits\n",
    "qc_ha.barrier() \n",
    "\n",
    "### Dibujamos ###\n",
    "qc_ha.draw('mpl')"
   ]
  },
  {
   "cell_type": "markdown",
   "metadata": {},
   "source": [
    "Es decir, tenemos nuestras entradas `q0` y `q1`, y el resultado de sumar estás irá a parar al bit menos significativo de lectura (`q2`) para los casos de 0+1 y 1+0. Hasta aquí todo bien, pero aún necesitamos el bit de acarreo para el caso 1+1 donde requerimos del siguiente bit más significativo de lectura `q3`. Así que tenemos que implementarlo."
   ]
  },
  {
   "cell_type": "markdown",
   "metadata": {},
   "source": [
    "Pensemo en el proceso:\n",
    "\n",
    "* Si `q0` está en 1 y `q1` en 0 , entonces `q2` está en 1.\n",
    "* Si `q0` está en 0 y `q1` en 1 , entonces `q2` está en 1.\n",
    "* Si `q0` está en 1 y `q1` en 1 , entonces `q2` está en 0."
   ]
  },
  {
   "cell_type": "markdown",
   "metadata": {},
   "source": [
    "Por lo que por sí mismo el bit `q2` se pone en 0 cuando tiene ambos 1's. \n",
    "Así que solo nos vamos a concentrar en colocar nuestro carry en 1 cuando ambos sean 1's. Intuitivamente, sabemos que esto se hace con una AND y una NOT. Y aquí es donde entra en juego la hermana mayor de la **CX**, la **CCX**. Por su nombre **Controlled-Controlled-Not** o más conocida como **Compuerta Toffoli**."
   ]
  },
  {
   "cell_type": "markdown",
   "metadata": {},
   "source": [
    "Representada como:"
   ]
  },
  {
   "cell_type": "code",
   "execution_count": 16,
   "metadata": {},
   "outputs": [
    {
     "data": {
      "image/png": "[encoded data removed]",
      "text/plain": [
       "<Figure size 146.797x204.68 with 1 Axes>"
      ]
     },
     "execution_count": 16,
     "metadata": {},
     "output_type": "execute_result"
    }
   ],
   "source": [
    "qc = QuantumCircuit(3)\n",
    "qc.ccx(0,1,2)\n",
    "qc.draw('mpl')"
   ]
  },
  {
   "cell_type": "markdown",
   "metadata": {},
   "source": [
    "donde `q0` y `q1` son los bits de control y `q2` el bit objetivo."
   ]
  },
  {
   "cell_type": "markdown",
   "metadata": {},
   "source": [
    "Con la siguiente matriz:"
   ]
  },
  {
   "cell_type": "markdown",
   "metadata": {},
   "source": [
    "$$\\text{CCX} =\n",
    "\\begin{bmatrix} \n",
    "1 & 0 & 0 & 0 & 0 & 0 & 0 & 0 \\\\ \n",
    "0 & 1 & 0 & 0 & 0 & 0 & 0 & 0 \\\\ \n",
    "0 & 0 & 1 & 0 & 0 & 0 & 0 & 0 \\\\\n",
    "0 & 0 & 0 & 0 & 0 & 0 & 0 & 1 \\\\\n",
    "0 & 0 & 0 & 0 & 1 & 0 & 0 & 0 \\\\\n",
    "0 & 0 & 0 & 0 & 0 & 1 & 0 & 0 \\\\ \n",
    "0 & 0 & 0 & 0 & 0 & 0 & 1 & 0 \\\\ \n",
    "0 & 0 & 0 & 1 & 0 & 0 & 0 & 0 \\\\\n",
    "\\end{bmatrix}\n",
    "$$"
   ]
  },
  {
   "cell_type": "markdown",
   "metadata": {},
   "source": [
    "Es exactamente el mismo funcionamiento que en la **CNOT** solo que ahora tendremos **2 bits de control**. Es decir, es una ompuerta de 3-qubits en donde tenemos 2 qubits de control y 1 objetivo. Si los 2 qubits de control están en 1, aplica la compuerta X. De lo contrario, no hace nada.\n",
    "\n",
    "Podemos imaginar esta compuerta como una AND en los qubits 1 y 2 seguida de una NOT hacía el qubits 3."
   ]
  },
  {
   "cell_type": "markdown",
   "metadata": {},
   "source": [
    "Se implementa con el comando `.ccx`."
   ]
  },
  {
   "cell_type": "markdown",
   "metadata": {},
   "source": [
    "La agregamos a nuestro circuito anterior del medio sumador para completarlo. Agregamos la Toffoli al qubit #3 ya que es nuestro carry:"
   ]
  },
  {
   "cell_type": "code",
   "execution_count": 17,
   "metadata": {},
   "outputs": [
    {
     "data": {
      "image/png": "[encoded data removed]",
      "text/plain": [
       "<Figure size 628.397x325.08 with 1 Axes>"
      ]
     },
     "execution_count": 17,
     "metadata": {},
     "output_type": "execute_result"
    }
   ],
   "source": [
    "# 4 qubits y 2 clásicos para leer el resultado\n",
    "qc_ha = QuantumCircuit(4,2)\n",
    "\n",
    "\n",
    "# Codificamos entradas\n",
    "qc_ha.x(0)\n",
    "# Dividimos con una barrera en todos los bits\n",
    "qc_ha.barrier() \n",
    "\n",
    "\n",
    "# CNOTs para sumar, invertimos los control y target en cada uno \n",
    "qc_ha.cx(0,2)\n",
    "qc_ha.cx(1,2)\n",
    "# Dividimos con una barrera en todos los bits\n",
    "qc_ha.barrier() \n",
    "\n",
    "### Toffoli ###\n",
    "qc_ha.ccx(0,1,3) \n",
    "# Dividimos con una barrera en todos los bits\n",
    "qc_ha.barrier() \n",
    "\n",
    "# Esta es otra forma de medir\n",
    "# Primero le pasamos los qubits a medir\n",
    "# y luego los bits clásicos donde se miden cada uno\n",
    "qc_ha.measure([2,3],[0,1])\n",
    "              \n",
    "### Dibujamos ###\n",
    "qc_ha.draw('mpl')"
   ]
  },
  {
   "cell_type": "markdown",
   "metadata": {},
   "source": [
    "Vamos a revisar el resultado:"
   ]
  },
  {
   "cell_type": "code",
   "execution_count": 18,
   "metadata": {},
   "outputs": [
    {
     "data": {
      "image/png": "[encoded data removed]",
      "text/plain": [
       "<Figure size 504x360 with 1 Axes>"
      ]
     },
     "execution_count": 18,
     "metadata": {},
     "output_type": "execute_result"
    }
   ],
   "source": [
    "qobj = assemble(qc_ha)\n",
    "counts = sim.run(qobj).result().get_counts()\n",
    "plot_histogram(counts)"
   ]
  },
  {
   "cell_type": "markdown",
   "metadata": {},
   "source": [
    "---"
   ]
  },
  {
   "cell_type": "markdown",
   "metadata": {},
   "source": [
    "## 1.2 Representando los estados de nuestros Qubits"
   ]
  },
  {
   "cell_type": "code",
   "execution_count": null,
   "metadata": {},
   "outputs": [],
   "source": []
  }
 ],
 "metadata": {
  "kernelspec": {
   "display_name": "Python 3",
   "language": "python",
   "name": "python3"
  },
  "language_info": {
   "codemirror_mode": {
    "name": "ipython",
    "version": 3
   },
   "file_extension": ".py",
   "mimetype": "text/x-python",
   "name": "python",
   "nbconvert_exporter": "python",
   "pygments_lexer": "ipython3",
   "version": "3.8.3"
  },
  "toc": {
   "base_numbering": 1,
   "nav_menu": {},
   "number_sections": false,
   "sideBar": true,
   "skip_h1_title": false,
   "title_cell": "Tabla de contenidos 💜",
   "title_sidebar": "Contents",
   "toc_cell": true,
   "toc_position": {},
   "toc_section_display": true,
   "toc_window_display": false
  }
 },
 "nbformat": 4,
 "nbformat_minor": 4
}
