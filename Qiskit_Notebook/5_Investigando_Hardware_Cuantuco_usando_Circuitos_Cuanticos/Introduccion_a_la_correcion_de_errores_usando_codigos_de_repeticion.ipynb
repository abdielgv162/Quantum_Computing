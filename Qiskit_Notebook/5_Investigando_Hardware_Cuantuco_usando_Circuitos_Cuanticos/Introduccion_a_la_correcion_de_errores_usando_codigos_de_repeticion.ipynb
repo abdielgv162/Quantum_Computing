{
 "cells": [
  {
   "cell_type": "markdown",
   "metadata": {
    "toc": true
   },
   "source": [
    "<h1>Tabla de contenidos 💜<span class=\"tocSkip\"></span></h1>\n",
    "<div class=\"toc\"><ul class=\"toc-item\"><li><span><a href=\"#Introducción-a-la-correción-de-errores-cuánticos-códigos-de-repetición\" data-toc-modified-id=\"Introducción-a-la-correción-de-errores-cuánticos-códigos-de-repetición-1\">Introducción a la correción de errores cuánticos códigos de repetición</a></span></li><li><span><a href=\"#1.-Introducción\" data-toc-modified-id=\"1.-Introducción-2\">1. Introducción</a></span></li></ul></div>"
   ]
  },
  {
   "cell_type": "markdown",
   "metadata": {},
   "source": [
    "# Introducción a la correción de errores cuánticos códigos de repetición"
   ]
  },
  {
   "cell_type": "markdown",
   "metadata": {},
   "source": [
    "# 1. Introducción"
   ]
  },
  {
   "cell_type": "markdown",
   "metadata": {},
   "source": [
    "La computación cuántica requiere de codificar información dentro de qubits. La mayor parte de los algoritmos desarrollados en las últimas décadas asumían que los qubits eran perfectos, es decir, contemplaban que los qubits podían prepararse en cualquier estado que desearamos y que podían manipularse con total precisión. A este tipo de qubits idealizados se le conoce como **qubits lógicos**"
   ]
  },
  {
   "cell_type": "markdown",
   "metadata": {},
   "source": [
    "A lo largo de los últimos años también hemos visto grandes avances en la búsqueda de sistemas físicos que se comporten como qubits, obteniendo con el paso del tiempo qubits de cada vez mejor calidad."
   ]
  },
  {
   "cell_type": "code",
   "execution_count": null,
   "metadata": {},
   "outputs": [],
   "source": []
  }
 ],
 "metadata": {
  "kernelspec": {
   "display_name": "Python 3",
   "language": "python",
   "name": "python3"
  },
  "language_info": {
   "codemirror_mode": {
    "name": "ipython",
    "version": 3
   },
   "file_extension": ".py",
   "mimetype": "text/x-python",
   "name": "python",
   "nbconvert_exporter": "python",
   "pygments_lexer": "ipython3",
   "version": "3.8.3"
  },
  "toc": {
   "base_numbering": 1,
   "nav_menu": {},
   "number_sections": false,
   "sideBar": true,
   "skip_h1_title": false,
   "title_cell": "Tabla de contenidos 💜",
   "title_sidebar": "Contents",
   "toc_cell": true,
   "toc_position": {},
   "toc_section_display": true,
   "toc_window_display": false
  }
 },
 "nbformat": 4,
 "nbformat_minor": 4
}
