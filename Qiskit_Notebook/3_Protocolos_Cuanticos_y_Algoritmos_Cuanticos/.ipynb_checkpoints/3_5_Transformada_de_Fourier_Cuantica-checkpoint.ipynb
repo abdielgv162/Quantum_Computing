{
 "cells": [
  {
   "cell_type": "markdown",
   "metadata": {
    "toc": true
   },
   "source": [
    "<h1>Tabla de contenido 💜<span class=\"tocSkip\"></span></h1>\n",
    "<div class=\"toc\"><ul class=\"toc-item\"><li><span><a href=\"#Transformada-Cuántica-de-Fourier\" data-toc-modified-id=\"Transformada-Cuántica-de-Fourier-1\">Transformada Cuántica de Fourier</a></span><ul class=\"toc-item\"><li><span><a href=\"#1.-Introducción\" data-toc-modified-id=\"1.-Introducción-1.1\">1. Introducción</a></span></li><li><span><a href=\"#2.-Intuición\" data-toc-modified-id=\"2.-Intuición-1.2\">2. Intuición</a></span></li></ul></li></ul></div>"
   ]
  },
  {
   "cell_type": "markdown",
   "metadata": {},
   "source": [
    "# Transformada Cuántica de Fourier"
   ]
  },
  {
   "cell_type": "markdown",
   "metadata": {},
   "source": [
    "Vamos a introducir la transformada cuántica de Fourier (QFT), derivar el circuito e implementarlo utilizando Qiskit. Mostraremos cómo correr una QFT en un simulador y en dispositivo real de 5 qubits."
   ]
  },
  {
   "cell_type": "markdown",
   "metadata": {},
   "source": [
    "## 1. Introducción"
   ]
  },
  {
   "cell_type": "markdown",
   "metadata": {},
   "source": [
    "La transformada de Fourier ocurre de muchas maneras en distintas versiones a lo largo de la computación clásica, en áreas tan diversas desde el procesamiento de señales hasta la compresión de datos e incluso, la teoría de la complejidad. La transformada cuántica de Fourier (QFT) es la implementación cuántica de una transformada de Fourier discreta sobre las amplitudes de nuestra función de onda. Esto es una parte de muchos algoritmos, más notablemente del a--lgoritmo de Shor** y en el estimador de fase cuántica."
   ]
  },
  {
   "cell_type": "markdown",
   "metadata": {},
   "source": [
    "La transformación discreta de Fourier actúa sobre un vector $(x_0,\\dots,x_{N-1})$ y lo cambia al vector $(y_0,\\dots,y{N-1})$ acorde con la fórmula:"
   ]
  },
  {
   "cell_type": "markdown",
   "metadata": {},
   "source": [
    "$$y_k = \\frac{1}{N} \\sum_{j=0}^{N-1}{x_j \\omega_N^{jk}}$$"
   ]
  },
  {
   "cell_type": "markdown",
   "metadata": {},
   "source": [
    "donde \n",
    "$$\\omega_N ^{jk} = e^{2\\pi i \\frac{jk}{N}}$$"
   ]
  },
  {
   "cell_type": "markdown",
   "metadata": {},
   "source": [
    "De forma similar, la transformada cuántica de Fourier actúa sobre un estado cuántico $\\sum_{i = 0}^{N-1}{x_i | i \\rangle}$ y lo asigna al estado cuántico $\\sum_{i = 0}^{N-1}{y_i | i \\rangle}$ de acuerdo con la fórmula:"
   ]
  },
  {
   "cell_type": "markdown",
   "metadata": {},
   "source": [
    "$$y_k = \\frac{1}{\\sqrt{N}}\\sum_{j=0}^{N-1}x_j\\omega_N^{jk}$$"
   ]
  },
  {
   "cell_type": "markdown",
   "metadata": {},
   "source": [
    "con $\\omega_N ^{jk}$ definida como lo hicimos anteriormente. Notemos que solamente las amplitudes del estado fueron afectar por esta transformación."
   ]
  },
  {
   "cell_type": "markdown",
   "metadata": {},
   "source": [
    "Esto puede ser expresado también como la asignación:"
   ]
  },
  {
   "cell_type": "markdown",
   "metadata": {},
   "source": [
    "$$\\vert x \\rangle \\mapsto \\frac{1}{\\sqrt{N}}\\sum_{y=0}^{N-1}\\omega_N^{xy} \\vert y \\rangle$$"
   ]
  },
  {
   "cell_type": "markdown",
   "metadata": {},
   "source": [
    "O como la matriz unitaria:"
   ]
  },
  {
   "cell_type": "markdown",
   "metadata": {},
   "source": [
    "$$U_{QFT} = \\frac{1}{\\sqrt{N}} \\sum_{x=0}^{N-1} \\sum_{y=0}^{N-1} \\omega_N^{xy} \\vert y \\rangle \\langle x \\vert$$"
   ]
  },
  {
   "cell_type": "markdown",
   "metadata": {},
   "source": [
    "## 2. Intuición"
   ]
  },
  {
   "cell_type": "markdown",
   "metadata": {},
   "source": []
  }
 ],
 "metadata": {
  "kernelspec": {
   "display_name": "Python 3",
   "language": "python",
   "name": "python3"
  },
  "language_info": {
   "codemirror_mode": {
    "name": "ipython",
    "version": 3
   },
   "file_extension": ".py",
   "mimetype": "text/x-python",
   "name": "python",
   "nbconvert_exporter": "python",
   "pygments_lexer": "ipython3",
   "version": "3.8.3"
  },
  "toc": {
   "base_numbering": 1,
   "nav_menu": {},
   "number_sections": false,
   "sideBar": true,
   "skip_h1_title": false,
   "title_cell": "Tabla de contenido 💜",
   "title_sidebar": "Contents",
   "toc_cell": true,
   "toc_position": {
    "height": "calc(100% - 180px)",
    "left": "10px",
    "top": "150px",
    "width": "245.76px"
   },
   "toc_section_display": true,
   "toc_window_display": false
  }
 },
 "nbformat": 4,
 "nbformat_minor": 4
}
