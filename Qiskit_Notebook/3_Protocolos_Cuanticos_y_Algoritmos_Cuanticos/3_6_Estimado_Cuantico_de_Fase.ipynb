{
 "cells": [
  {
   "cell_type": "code",
   "execution_count": 2,
   "metadata": {},
   "outputs": [],
   "source": [
    "# Quitando los warnings de Matplot\n",
    "import warnings\n",
    "from matplotlib.cbook import MatplotlibDeprecationWarning\n",
    "warnings.filterwarnings('ignore', category=MatplotlibDeprecationWarning)"
   ]
  },
  {
   "cell_type": "markdown",
   "metadata": {
    "toc": true
   },
   "source": [
    "<h1>Tabla de contenidos 💜<span class=\"tocSkip\"></span></h1>\n",
    "<div class=\"toc\"><ul class=\"toc-item\"><li><span><a href=\"#Estimación-de-fase-cuántica\" data-toc-modified-id=\"Estimación-de-fase-cuántica-1\">Estimación de fase cuántica</a></span><ul class=\"toc-item\"><li><span><a href=\"#1.-Descripción-general\" data-toc-modified-id=\"1.-Descripción-general-1.1\">1. Descripción general</a></span><ul class=\"toc-item\"><li><span><a href=\"#1.1-Intuición\" data-toc-modified-id=\"1.1-Intuición-1.1.1\">1.1 Intuición</a></span></li></ul></li></ul></li></ul></div>"
   ]
  },
  {
   "cell_type": "markdown",
   "metadata": {},
   "source": [
    "# Estimación de fase cuántica"
   ]
  },
  {
   "cell_type": "markdown",
   "metadata": {},
   "source": [
    "El estimador cuántico de fase es uno de las sub-rutinas más importantes en computación cuántica. Este sirve como un bloque fundamental dentro de muchos algoritmos cuánticos. El objetivo del algoritmo es el siguiente:"
   ]
  },
  {
   "cell_type": "markdown",
   "metadata": {},
   "source": [
    "Dado un operador unitario $U$, el algoritmo estima $\\theta$ en $U|\\Psi \\rangle= e^{2\\pi \\theta}|\\Psi \\rangle $. Aquí $|\\psi \\rangle$ es un eigenvector y $e^{2\\pi i \\theta} es su correspondiente eigenvalue. Mientras $U$ sea unitario, todos sus eigenvalues tienen norma 1."
   ]
  },
  {
   "cell_type": "markdown",
   "metadata": {},
   "source": [
    "## 1. Descripción general"
   ]
  },
  {
   "cell_type": "markdown",
   "metadata": {},
   "source": [
    "El circuito general de la estimación de fase se muestra a continuación. El registro principal contiene $t$ qubits de \"conteo\", y el de abajo contiene los qubits en el estado $\\psi$:"
   ]
  },
  {
   "cell_type": "markdown",
   "metadata": {},
   "source": [
    "![](https://qiskit.org/textbook/ch-algorithms/images/qpe_tex_qz.png)"
   ]
  },
  {
   "cell_type": "markdown",
   "metadata": {},
   "source": [
    "### 1.1 Intuición"
   ]
  },
  {
   "cell_type": "markdown",
   "metadata": {},
   "source": [
    "El algoritmo estimador cuántico de fase utiliza un contragolpe de fase (phase kickback) para reescribir la fase de $U$."
   ]
  },
  {
   "cell_type": "code",
   "execution_count": null,
   "metadata": {},
   "outputs": [],
   "source": []
  }
 ],
 "metadata": {
  "kernelspec": {
   "display_name": "Python 3",
   "language": "python",
   "name": "python3"
  },
  "language_info": {
   "codemirror_mode": {
    "name": "ipython",
    "version": 3
   },
   "file_extension": ".py",
   "mimetype": "text/x-python",
   "name": "python",
   "nbconvert_exporter": "python",
   "pygments_lexer": "ipython3",
   "version": "3.8.3"
  },
  "toc": {
   "base_numbering": 1,
   "nav_menu": {},
   "number_sections": false,
   "sideBar": true,
   "skip_h1_title": false,
   "title_cell": "Tabla de contenidos 💜",
   "title_sidebar": "Contents",
   "toc_cell": true,
   "toc_position": {
    "height": "calc(100% - 180px)",
    "left": "10px",
    "top": "150px",
    "width": "222.76px"
   },
   "toc_section_display": true,
   "toc_window_display": false
  }
 },
 "nbformat": 4,
 "nbformat_minor": 4
}
