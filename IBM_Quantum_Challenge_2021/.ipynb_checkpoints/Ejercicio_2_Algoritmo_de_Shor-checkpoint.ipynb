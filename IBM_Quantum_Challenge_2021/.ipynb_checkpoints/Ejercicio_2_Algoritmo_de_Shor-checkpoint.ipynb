{
 "cells": [
  {
   "cell_type": "markdown",
   "metadata": {
    "toc": true
   },
   "source": [
    "<h1>Tabla de contenidos 💜<span class=\"tocSkip\"></span></h1>\n",
    "<div class=\"toc\"><ul class=\"toc-item\"><li><span><a href=\"#Ejercicio-2---Algoritmo-de-Shor\" data-toc-modified-id=\"Ejercicio-2---Algoritmo-de-Shor-1\">Ejercicio 2 - Algoritmo de Shor</a></span><ul class=\"toc-item\"><li><span><a href=\"#Un-poco-de-historia\" data-toc-modified-id=\"Un-poco-de-historia-1.1\">Un poco de historia</a></span><ul class=\"toc-item\"><li><span><a href=\"#Referencias\" data-toc-modified-id=\"Referencias-1.1.1\">Referencias</a></span></li></ul></li><li><span><a href=\"#tl;dr:-Algoritmo-de-Shor\" data-toc-modified-id=\"tl;dr:-Algoritmo-de-Shor-1.2\">tl;dr: Algoritmo de Shor</a></span></li><li><span><a href=\"#El-problema\" data-toc-modified-id=\"El-problema-1.3\">El problema</a></span></li></ul></li></ul></div>"
   ]
  },
  {
   "cell_type": "markdown",
   "metadata": {},
   "source": [
    "# Ejercicio 2 - Algoritmo de Shor"
   ]
  },
  {
   "cell_type": "markdown",
   "metadata": {},
   "source": [
    "## Un poco de historia"
   ]
  },
  {
   "cell_type": "markdown",
   "metadata": {},
   "source": [
    "En computación, usualmente medimos el rendimiento de un algoritmo al estudiar como es su crecimiento respecto al tamaño de sus entradas (qué tan bien puede computar con números más y más grandes). Por ejemplo, al realizar un algoritmo que realice una suma este crecerá linealmente con el tamaño de los números que estamos sumando. Existen algunos problemas computacionales para los cuales el mejor algoritmo que podemos tener es de tipo **exponencial**, es decir, aumenta exponencialmente con el tamaño de las entradas; y también significa qué, dada una entrada considerablemente grande de valores toarían tiempos absurdos en poder resolverse con cualquier supercomputadora clásica existente y por existir. Gracias a este principio y a la seguridad matemática que tenemos de que ciertos algoritmos tardarían una eternidad en realizarse es que existen nuestros sistemas de seguridad en internet, entre ellos protocolos como el famoso protocolo de encripción RSA."
   ]
  },
  {
   "cell_type": "markdown",
   "metadata": {},
   "source": [
    "<div>\n",
    "<img src=\"https://i.imgur.com/Q84loPv.gif\" width=\"400\"/>\n",
    "</div>"
   ]
  },
  {
   "cell_type": "markdown",
   "metadata": {},
   "source": [
    "En 1994, Peter Shor demostró que es posible factorizar a un número en los números primos que lo componen (tarea muy cara computacionalmente y en la  que se basa mucha de la seguridad de internet) en una computadora cuántica. Esto, en parte, es una buena noticia ya que incluso el mejor algoritmos clásico que conocemos se queda muy corto contra su implementación cuántica. Y de hecho, la encripción **RSA** consiste en resolver la factorización en números primos de números muy muy grandes, cosa que es inviable para cualquier supercomputador clásico. Para factorizar números enteros tan grandes nuestras computadores podrían tomar millones de años en resolver el problema.\n",
    "\n",
    "La razón por la cuál aún siguen con vida nuestros algoritmos de encriptado, es por que los computadores cuánticos aún no alcanzan el poder requerido para resolver dicho problema, de hecho requeriríamos de millones de qubits y compuertas para poder resolverlo, cosa que aún está muy lejos. \n",
    "\n",
    "Puede parecer absurdo invertir en computación cuántica si requiere de tantos qubits, pero no olvidemos que procesadores de gama domestica-alta, que podemos tener en un PC de escritorio apenas óptimo para jugar y hacer stream como el Intel Core i9-9900K contiene en su interior 3052 mil millones. Mientras que en un computador cuántico con apenas unos millones podríamos romper toda la seguridad de cualquier protocolo y poner en peligro cualquier sistema financiero."
   ]
  },
  {
   "cell_type": "markdown",
   "metadata": {},
   "source": [
    "No olvidemos que tenemos el antecedente donde Lieven M.K. Vandersypen, Matthias Steffen, Gregory Breyta, Costantino S. Yannoni, Mark H. Sherwood e Isaac L. Chuang lograron factorizar el número 15 en una computadora cuántica en 2001. Parece muy poco, pero teniendo en cuenta como está avanzando el campo y la ingeniería detrás de esto, podemos comenzar a especular un poco."
   ]
  },
  {
   "cell_type": "markdown",
   "metadata": {},
   "source": [
    "La dificultad en crear circuitos para el algoritmo de Shor está en crear un circuito que compute un $ay$ $mod$ $N$ controlado. Mientras sabemos como crear estos circuitos utilizando un número polinomial de compuertas, estos son todavía muy largos para la capacidad de las computadoras actuales. Afortunadamente, si nosotros sabemos algo de información sobre el problema a priori, entonces, a veces, podemos hacer \"trampa\" y crear circuitos más eficientes (adaptar el circuito a la solución). "
   ]
  },
  {
   "cell_type": "markdown",
   "metadata": {},
   "source": [
    "Volviendo a la hazaña del 2001, para poder ejecutar este circuito en hardware disponible para realizar la tarea, se creó un circuito que realizara $7y$ *mod* $15$. Esto hizo que el circuito fuera lo suficientemente pequeño como para funcionar en hardware  del que disponían los autores  Lieven M.K. Vandersypen, Matthias Steffen y compañia en aquel entonces."
   ]
  },
  {
   "cell_type": "markdown",
   "metadata": {},
   "source": [
    "En este ejercicio nos concentraremos en crear un circuito $35y\\text{ mod }15$. Que podremos utilizar para nuestro algoritmo de Shor y lo ejecutaremos en el sistema `ibmq_santiago`."
   ]
  },
  {
   "cell_type": "markdown",
   "metadata": {},
   "source": [
    "### Referencias\n",
    "\n",
    "1. Shor, Peter W. \"Algorithms for quantum computation: discrete logarithms and factoring.\" Proceedings 35th annual symposium on foundations of computer science. Ieee, 1994.\n",
    "1. Vandersypen, Lieven MK, et al. \"Experimental realization of Shor's quantum factoring algorithm using nuclear magnetic resonance.\" Nature 414.6866 (2001): 883-887."
   ]
  },
  {
   "cell_type": "markdown",
   "metadata": {},
   "source": [
    "## tl;dr: Algoritmo de Shor"
   ]
  },
  {
   "cell_type": "markdown",
   "metadata": {},
   "source": [
    "Existe un algoritmo llamado **estimador de fase cuántica** que nos la fase que introduce una compuerta a un cierto tipo de estado. Por ejemplo, las entradas de nuestro estimador de fase pueden ser el estado $|1\\rangle$ y la compuerta **Z**. Si la compuerta **Z** actúa sobre el estado $|1\\rangle$, obtendremos de vuelta el mismo estado con una fase global de:"
   ]
  },
  {
   "cell_type": "markdown",
   "metadata": {},
   "source": [
    "$$Z|1\\rangle = -|1\\rangle = e^{i\\pi} |1\\rangle$$"
   ]
  },
  {
   "cell_type": "markdown",
   "metadata": {},
   "source": [
    "Y el algoritmo de estimación de fase podría hacer esto por nosotros. [Más detalles del algoritmo](#https://qiskit.org/textbook/ch-algorithms/quantum-phase-estimation.html)\n",
    "\n",
    "Shor demostró que si aplicamos un estimador de fase en una compuerta, $U$, tal que tenga el comportamiento $U|y\\rangle = |ay \\text{ mod } N$, nosotros podemos rápidamente obtener información sobre los factores de $N$,"
   ]
  },
  {
   "cell_type": "markdown",
   "metadata": {},
   "source": [
    "## El problema"
   ]
  },
  {
   "cell_type": "markdown",
   "metadata": {},
   "source": [
    "En este ejercicio vamos a factorizar el número 35 a partir de un circuito de estimador de fase que implementa $13y \\text{ mod } 35$. El ejercicio es crear un circuito que haga eso, y que sea también lo suficientemente pequeño como para correr en el sistema `ibmq_santiago`. Esta no es una tarea fácil, así que lo primero que vamos a hacer será hacer trampa."
   ]
  },
  {
   "cell_type": "markdown",
   "metadata": {},
   "source": [
    "Un detalle del algoritmo de Shor es que nuestro circuito solo necesita trabajar en estados que podamos alcanzar aplicando $U$ en nuestro estado inicial $|1\\rangle$. Por ejemplo, podríamos utilizar cualquier circuito que tenga el siguiente comportamiento:"
   ]
  },
  {
   "cell_type": "markdown",
   "metadata": {},
   "source": [
    "$$\n",
    "\\begin{aligned}\n",
    "U|1\\rangle &= |13\\rangle \\\\\n",
    "UU|1\\rangle &= |29\\rangle \\\\\n",
    "UUU|1\\rangle &= |27\\rangle \\\\\n",
    "UUUU|1\\rangle &= |1\\rangle \\\\\n",
    "\\end{aligned}\n",
    "$$"
   ]
  },
  {
   "cell_type": "code",
   "execution_count": null,
   "metadata": {},
   "outputs": [],
   "source": []
  }
 ],
 "metadata": {
  "kernelspec": {
   "display_name": "Python 3",
   "language": "python",
   "name": "python3"
  },
  "language_info": {
   "codemirror_mode": {
    "name": "ipython",
    "version": 3
   },
   "file_extension": ".py",
   "mimetype": "text/x-python",
   "name": "python",
   "nbconvert_exporter": "python",
   "pygments_lexer": "ipython3",
   "version": "3.8.3"
  },
  "toc": {
   "base_numbering": 1,
   "nav_menu": {},
   "number_sections": false,
   "sideBar": true,
   "skip_h1_title": false,
   "title_cell": "Tabla de contenidos 💜",
   "title_sidebar": "Contents",
   "toc_cell": true,
   "toc_position": {
    "height": "calc(100% - 180px)",
    "left": "10px",
    "top": "150px",
    "width": "204.8px"
   },
   "toc_section_display": true,
   "toc_window_display": false
  }
 },
 "nbformat": 4,
 "nbformat_minor": 4
}
