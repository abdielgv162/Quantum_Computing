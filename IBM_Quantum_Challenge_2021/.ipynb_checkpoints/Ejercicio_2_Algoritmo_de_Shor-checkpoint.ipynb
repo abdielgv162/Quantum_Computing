{
 "cells": [
  {
   "cell_type": "markdown",
   "metadata": {
    "toc": true
   },
   "source": [
    "<h1>Tabla de contenidos 💜<span class=\"tocSkip\"></span></h1>\n",
    "<div class=\"toc\"><ul class=\"toc-item\"><li><span><a href=\"#Ejercicio-2---Algoritmo-de-Shor\" data-toc-modified-id=\"Ejercicio-2---Algoritmo-de-Shor-1\">Ejercicio 2 - Algoritmo de Shor</a></span><ul class=\"toc-item\"><li><span><a href=\"#Un-poco-de-historia\" data-toc-modified-id=\"Un-poco-de-historia-1.1\">Un poco de historia</a></span><ul class=\"toc-item\"><li><span><a href=\"#Referencias\" data-toc-modified-id=\"Referencias-1.1.1\">Referencias</a></span></li></ul></li><li><span><a href=\"#tl;dr:-Algoritmo-de-Shor\" data-toc-modified-id=\"tl;dr:-Algoritmo-de-Shor-1.2\">tl;dr: Algoritmo de Shor</a></span><ul class=\"toc-item\"><li><span><a href=\"#Recordatorio:-Modulo-y-aritmética-modular.\" data-toc-modified-id=\"Recordatorio:-Modulo-y-aritmética-modular.-1.2.1\">Recordatorio: Modulo y aritmética modular.</a></span></li></ul></li><li><span><a href=\"#El-problema\" data-toc-modified-id=\"El-problema-1.3\">El problema</a></span></li></ul></li></ul></div>"
   ]
  },
  {
   "cell_type": "markdown",
   "metadata": {},
   "source": [
    "# Ejercicio 2 - Algoritmo de Shor"
   ]
  },
  {
   "cell_type": "markdown",
   "metadata": {},
   "source": [
    "## Un poco de historia"
   ]
  },
  {
   "cell_type": "markdown",
   "metadata": {},
   "source": [
    "En computación, usualmente medimos el rendimiento de un algoritmo al estudiar como es su crecimiento respecto al tamaño de sus entradas (qué tan bien puede computar con números más y más grandes). Por ejemplo, al realizar un algoritmo que realice una suma este crecerá linealmente con el tamaño de los números que estamos sumando. Existen algunos problemas computacionales para los cuales el mejor algoritmo que podemos tener es de tipo **exponencial**, es decir, aumenta exponencialmente con el tamaño de las entradas; y también significa qué, dada una entrada considerablemente grande de valores toarían tiempos absurdos en poder resolverse con cualquier supercomputadora clásica existente y por existir. Gracias a este principio y a la seguridad matemática que tenemos de que ciertos algoritmos tardarían una eternidad en realizarse es que existen nuestros sistemas de seguridad en internet, entre ellos protocolos como el famoso protocolo de encripción RSA."
   ]
  },
  {
   "cell_type": "markdown",
   "metadata": {},
   "source": [
    "<div>\n",
    "<img src=\"https://i.imgur.com/Q84loPv.gif\" width=\"400\"/>\n",
    "</div>"
   ]
  },
  {
   "cell_type": "markdown",
   "metadata": {},
   "source": [
    "En 1994, Peter Shor demostró que es posible factorizar a un número en los números primos que lo componen (tarea muy cara computacionalmente y en la  que se basa mucha de la seguridad de internet) en una computadora cuántica. Esto, en parte, es una buena noticia ya que incluso el mejor algoritmos clásico que conocemos se queda muy corto contra su implementación cuántica. Y de hecho, la encripción **RSA** consiste en resolver la factorización en números primos de números muy muy grandes, cosa que es inviable para cualquier supercomputador clásico. Para factorizar números enteros tan grandes nuestras computadores podrían tomar millones de años en resolver el problema.\n",
    "\n",
    "La razón por la cuál aún siguen con vida nuestros algoritmos de encriptado, es por que los computadores cuánticos aún no alcanzan el poder requerido para resolver dicho problema, de hecho requeriríamos de millones de qubits y compuertas para poder resolverlo, cosa que aún está muy lejos. \n",
    "\n",
    "Puede parecer absurdo invertir en computación cuántica si requiere de tantos qubits, pero no olvidemos que procesadores de gama domestica-alta, que podemos tener en un PC de escritorio apenas óptimo para jugar y hacer stream como el Intel Core i9-9900K contiene en su interior 3052 mil millones. Mientras que en un computador cuántico con apenas unos millones podríamos romper toda la seguridad de cualquier protocolo y poner en peligro cualquier sistema financiero."
   ]
  },
  {
   "cell_type": "markdown",
   "metadata": {},
   "source": [
    "No olvidemos que tenemos el antecedente donde Lieven M.K. Vandersypen, Matthias Steffen, Gregory Breyta, Costantino S. Yannoni, Mark H. Sherwood e Isaac L. Chuang lograron factorizar el número 15 en una computadora cuántica en 2001. Parece muy poco, pero teniendo en cuenta como está avanzando el campo y la ingeniería detrás de esto, podemos comenzar a especular un poco."
   ]
  },
  {
   "cell_type": "markdown",
   "metadata": {},
   "source": [
    "La dificultad en crear circuitos para el algoritmo de Shor está en crear un circuito que compute un $ay$ $mod$ $N$ controlado. Mientras sabemos como crear estos circuitos utilizando un número polinomial de compuertas, estos son todavía muy largos para la capacidad de las computadoras actuales. Afortunadamente, si nosotros sabemos algo de información sobre el problema a priori, entonces, a veces, podemos hacer \"trampa\" y crear circuitos más eficientes (adaptar el circuito a la solución). "
   ]
  },
  {
   "cell_type": "markdown",
   "metadata": {},
   "source": [
    "Volviendo a la hazaña del 2001, para poder ejecutar este circuito en hardware disponible para realizar la tarea, se creó un circuito que realizara $7y$ *mod* $15$. Esto hizo que el circuito fuera lo suficientemente pequeño como para funcionar en hardware  del que disponían los autores  Lieven M.K. Vandersypen, Matthias Steffen y compañia en aquel entonces."
   ]
  },
  {
   "cell_type": "markdown",
   "metadata": {},
   "source": [
    "En este ejercicio nos concentraremos en crear un circuito $35y\\text{ mod }15$. Que podremos utilizar para nuestro algoritmo de Shor y lo ejecutaremos en el sistema `ibmq_santiago`."
   ]
  },
  {
   "cell_type": "markdown",
   "metadata": {},
   "source": [
    "### Referencias\n",
    "\n",
    "1. Shor, Peter W. \"Algorithms for quantum computation: discrete logarithms and factoring.\" Proceedings 35th annual symposium on foundations of computer science. Ieee, 1994.\n",
    "1. Vandersypen, Lieven MK, et al. \"Experimental realization of Shor's quantum factoring algorithm using nuclear magnetic resonance.\" Nature 414.6866 (2001): 883-887."
   ]
  },
  {
   "cell_type": "markdown",
   "metadata": {},
   "source": [
    "## tl;dr: Algoritmo de Shor"
   ]
  },
  {
   "cell_type": "markdown",
   "metadata": {},
   "source": [
    "Existe un algoritmo llamado **estimador de fase cuántica** que nos la fase que introduce una compuerta a un cierto tipo de estado. Por ejemplo, las entradas de nuestro estimador de fase pueden ser el estado $|1\\rangle$ y la compuerta **Z**. Si la compuerta **Z** actúa sobre el estado $|1\\rangle$, obtendremos de vuelta el mismo estado con una fase global de:"
   ]
  },
  {
   "cell_type": "markdown",
   "metadata": {},
   "source": [
    "$$Z|1\\rangle = -|1\\rangle = e^{i\\pi} |1\\rangle$$"
   ]
  },
  {
   "cell_type": "markdown",
   "metadata": {},
   "source": [
    "Y el algoritmo de estimación de fase podría hacer esto por nosotros. [Más detalles del algoritmo](#https://qiskit.org/textbook/ch-algorithms/quantum-phase-estimation.html)\n",
    "\n",
    "Shor demostró que si aplicamos un estimador de fase en una compuerta, $U$, tal que tenga el comportamiento $U|y\\rangle = |ay \\text{ mod } N \\rangle$, nosotros podemos rápidamente obtener información sobre los factores de $N$.\n",
    "\n",
    "Es decir, si aplicamos el operador unitario $U$ a un estado cuántico $|y\\rangle$ obtendremos el estado  $|ay \\text{ mod } N \\rangle$."
   ]
  },
  {
   "cell_type": "markdown",
   "metadata": {},
   "source": [
    "### Recordatorio: Modulo y aritmética modular.\n",
    "\n",
    "La operación módulo (abreviada como 'mod') simplemente se refiere a dividir un número por otro y nos quedamos con la parte sobrante.\n",
    "\n",
    "$$17 \\text{ mod } 5 = 2$$"
   ]
  },
  {
   "cell_type": "markdown",
   "metadata": {},
   "source": [
    "Ya que $17 \\div 5 = 3$ y sobran 2."
   ]
  },
  {
   "cell_type": "markdown",
   "metadata": {},
   "source": [
    "Por lo tanto, usando una notación de aritmética modular podríamos escribir:\n",
    "\n",
    "$$17 = 2 \\text{(mod 5) }$$ "
   ]
  },
  {
   "cell_type": "markdown",
   "metadata": {},
   "source": [
    "Hay que recalcar que el (mod 5) está actuando en toda la ecuación, no solo en el lado derecho."
   ]
  },
  {
   "cell_type": "markdown",
   "metadata": {},
   "source": [
    "## El problema"
   ]
  },
  {
   "cell_type": "markdown",
   "metadata": {},
   "source": [
    "En este ejercicio vamos a factorizar el número 35 a partir de un circuito de estimador de fase que implementa $13y \\text{ mod } 35$. El ejercicio es crear un circuito que haga eso, y que sea también lo suficientemente pequeño como para correr en el sistema `ibmq_santiago`. Esta no es una tarea fácil, así que lo primero que vamos a hacer será hacer trampa."
   ]
  },
  {
   "cell_type": "markdown",
   "metadata": {},
   "source": [
    "Un detalle del algoritmo de Shor es que nuestro circuito solo necesita trabajar en estados que podamos alcanzar aplicando $U$ en nuestro estado inicial $|1\\rangle$. Por ejemplo, podríamos utilizar cualquier circuito que tenga el siguiente comportamiento:"
   ]
  },
  {
   "cell_type": "markdown",
   "metadata": {},
   "source": [
    "$$\n",
    "\\begin{aligned}\n",
    "U|1\\rangle &= |13\\rangle \\\\\n",
    "UU|1\\rangle &= |29\\rangle \\\\\n",
    "UUU|1\\rangle &= |27\\rangle \\\\\n",
    "UUUU|1\\rangle &= |1\\rangle \\\\\n",
    "\\end{aligned}\n",
    "$$"
   ]
  },
  {
   "cell_type": "markdown",
   "metadata": {},
   "source": [
    "Podemos ver que después de cierta cantidad de veces que apliquemos el operador unitario $U$ regresamos al estado inicial $|1\\rangle$."
   ]
  },
  {
   "cell_type": "markdown",
   "metadata": {},
   "source": [
    "Ahora, ¿Cómo lo hacemos más fácil para nosotros? Dado que solo tenemos que transformar correctamente 4 diferentes estados, podemos codificarlos dentro de 2 qubits. Para este ejercicio, vamos a mapear los estados de nuestra base computacional de 2 qubits a los números de la siguiente forma:"
   ]
  },
  {
   "cell_type": "markdown",
   "metadata": {},
   "source": [
    "$$\n",
    "\\begin{aligned}\n",
    "|1\\rangle &\\rightarrow |00\\rangle \\\\\n",
    "|13\\rangle &\\rightarrow |01\\rangle \\\\\n",
    "|29\\rangle &\\rightarrow |10\\rangle \\\\\n",
    "|27\\rangle &\\rightarrow |11\\rangle \\\\\n",
    "\\end{aligned}\n",
    "$$"
   ]
  },
  {
   "cell_type": "markdown",
   "metadata": {},
   "source": [
    "¿Por qué decimos que estamos \"haciendo trampa\"? Bueno, para tomar ventaja de la optimización, necesitamos saber todos los estados que va a afectar $U$, lo cuál significa que tenemos que computar $ay \\text{ mod } N$ hasta que obtengamos 1 de nuevo, y eso significa que conocemos el periodo para $a^x \\text{ mod } N$ y por lo tanto, obtener los factores de N. Cualquier optimización como esta, en la cual utilizamos información que nos dice algo sobre el valor $r$, obviamente no va a escalar a problemas que las computadoras cuánticas  no puedan resolver.\n",
    "\n",
    "Pero el propósito de este ejercicio es verificar que en efecto, el algoritmo de Shor funciona según lo previsto, así que por ahora no nos preocupemos por la ventaja que estamos tomando en el problema al obtener nuestro circuito para $U$."
   ]
  },
  {
   "cell_type": "markdown",
   "metadata": {},
   "source": [
    "<div id='u-definition'></div>\n",
    "<div class=\"alert alert-block alert-success\">\n",
    "\n",
    "**Ejercicio 2a:** Crear un circuito ($U$) que efectúe la transformación:\n",
    "\n",
    "$$\n",
    "\\begin{aligned}\n",
    "U|00\\rangle &= |01\\rangle \\\\\n",
    "U|01\\rangle &= |10\\rangle \\\\\n",
    "U|10\\rangle &= |11\\rangle \\\\\n",
    "U|11\\rangle &= |00\\rangle \\\\\n",
    "\\end{aligned}\n",
    "$$\n",
    "\n",
    "y que esté controlada por otro qubit. El circuito va a actuar en un registro objetivo de 2 qubits llamado 'target', y será controlado por otro registro de un solo qubit llamado 'control'. Debemos de asignar nuestro circuito terminado a la variable '`cu`'.\n",
    "    \n",
    "</div>"
   ]
  },
  {
   "cell_type": "markdown",
   "metadata": {},
   "source": [
    "$$13y \\text{ mod } 35$$"
   ]
  },
  {
   "cell_type": "markdown",
   "metadata": {},
   "source": [
    "$$a = 13, N= 35$$"
   ]
  },
  {
   "cell_type": "code",
   "execution_count": 3,
   "metadata": {},
   "outputs": [
    {
     "data": {
      "image/png": "[encoded data removed]",
      "text/plain": [
       "<Figure size 175.827x204.68 with 1 Axes>"
      ]
     },
     "execution_count": 3,
     "metadata": {},
     "output_type": "execute_result"
    }
   ],
   "source": [
    "from qiskit import QuantumCircuit\n",
    "from qiskit import QuantumRegister, QuantumCircuit\n",
    "c = QuantumRegister(1, 'control')\n",
    "t = QuantumRegister(2, 'target')\n",
    "cu = QuantumCircuit(c, t, name=\"Controlled 13^x mod 35\")\n",
    "\n",
    "# WRITE YOUR CODE BETWEEN THESE LINES - START\n",
    "\n",
    "\n",
    "\n",
    "\n",
    "\n",
    "# WRITE YOUR CODE BETWEEN THESE LINES - END\n",
    "\n",
    "cu.draw('mpl')"
   ]
  },
  {
   "cell_type": "code",
   "execution_count": null,
   "metadata": {},
   "outputs": [],
   "source": []
  }
 ],
 "metadata": {
  "kernelspec": {
   "display_name": "Python 3",
   "language": "python",
   "name": "python3"
  },
  "language_info": {
   "codemirror_mode": {
    "name": "ipython",
    "version": 3
   },
   "file_extension": ".py",
   "mimetype": "text/x-python",
   "name": "python",
   "nbconvert_exporter": "python",
   "pygments_lexer": "ipython3",
   "version": "3.8.3"
  },
  "toc": {
   "base_numbering": 1,
   "nav_menu": {},
   "number_sections": false,
   "sideBar": true,
   "skip_h1_title": false,
   "title_cell": "Tabla de contenidos 💜",
   "title_sidebar": "Contents",
   "toc_cell": true,
   "toc_position": {
    "height": "calc(100% - 180px)",
    "left": "10px",
    "top": "150px",
    "width": "204.8px"
   },
   "toc_section_display": true,
   "toc_window_display": false
  }
 },
 "nbformat": 4,
 "nbformat_minor": 4
}
