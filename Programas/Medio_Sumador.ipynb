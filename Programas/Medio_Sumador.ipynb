{
 "cells": [
  {
   "cell_type": "code",
   "execution_count": 1,
   "metadata": {},
   "outputs": [
    {
     "data": {
      "text/plain": [
       "{'qiskit-terra': '0.17.3', 'qiskit-aer': '0.8.2', 'qiskit-ignis': '0.6.0', 'qiskit-ibmq-provider': '0.13.1', 'qiskit-aqua': '0.9.1', 'qiskit': '0.26.0', 'qiskit-nature': None, 'qiskit-finance': None, 'qiskit-optimization': None, 'qiskit-machine-learning': None}"
      ]
     },
     "execution_count": 1,
     "metadata": {},
     "output_type": "execute_result"
    }
   ],
   "source": [
    "# Importa Qistkit y verifica la versión\n",
    "import qiskit\n",
    "qiskit.__qiskit_version__"
   ]
  },
  {
   "cell_type": "code",
   "execution_count": 2,
   "metadata": {},
   "outputs": [],
   "source": [
    "from qiskit import QuantumCircuit, assemble, Aer\n",
    "from qiskit.visualization import plot_histogram"
   ]
  },
  {
   "cell_type": "markdown",
   "metadata": {},
   "source": [
    "Vamos a ver la implementación del medio sumador\n",
    "\n",
    "* Queremos 2 bits para operar y 2 qubits para leer.\n",
    "* Usaremos solo 2 bits clásicos ya que vamos a medir una cadena de 2 bits.\n",
    "* Usaremos 2 CNOTs ya que queremos llevar el resultado de las sumas a 2 qubits distintos (y no sobrescribir), por lo que aplicaremos 1 CNOT respecto a cada qubit de lectura."
   ]
  },
  {
   "cell_type": "code",
   "execution_count": 5,
   "metadata": {},
   "outputs": [
    {
     "data": {
      "image/png": "[encoded data removed]",
      "text/plain": [
       "<Figure size 387.597x325.08 with 1 Axes>"
      ]
     },
     "execution_count": 5,
     "metadata": {},
     "output_type": "execute_result"
    }
   ],
   "source": [
    "# 4 qubits y 2 clásicos para leer el resultado\n",
    "qc_ha = QuantumCircuit(4,2)\n",
    "\n",
    "# Codificamos entradas\n",
    "qc_ha.x(0)\n",
    "\n",
    "# Dividimos con una barrera en todos los bits\n",
    "qc_ha.barrier() \n",
    "\n",
    "# CNOTs para sumar, invertimos los control y target en cada uno \n",
    "qc_ha.cx(0,2)\n",
    "qc_ha.cx(1,2)\n",
    "\n",
    "# Dividimos con una barrera en todos los bits\n",
    "qc_ha.barrier() \n",
    "\n",
    "### Dibujamos ###\n",
    "qc_ha.draw('mpl')"
   ]
  },
  {
   "cell_type": "markdown",
   "metadata": {},
   "source": [
    "Es decir, tenemos nuestras entradas `q0` y `q1`, y el resultado de sumar estás irá a parar al bit menos significativo de lectura (`q2`) para los casos de 0+1 y 1+0. Hasta aquí todo bien, pero aún necesitamos el bit de acarreo para el caso 1+1 donde requerimos del siguiente bit más significativo de lectura `q3`. Así que tenemos que implementarlo."
   ]
  },
  {
   "cell_type": "markdown",
   "metadata": {},
   "source": [
    "Pensemo en el proceso:\n",
    "\n",
    "* Si `q0` está en 1 y `q1` en 0 , entonces `q2` está en 1.\n",
    "* Si `q0` está en 0 y `q1` en 1 , entonces `q2` está en 1.\n",
    "* Si `q0` está en 1 y `q1` en 1 , entonces `q2` está en 0."
   ]
  },
  {
   "cell_type": "markdown",
   "metadata": {},
   "source": [
    "Por lo que por sí mismo el bit `q2` se pone en 0 cuando tiene ambos 1's. \n",
    "Así que solo nos vamos a concentrar en colocar nuestro carry en 1 cuando ambos sean 1's. Intuitivamente, sabemos que esto se hace con una AND y una NOT. Y aquí es donde entra en juego la hermana mayor de la **CX**, la **CCX**. Por su nombre **Controlled-Controlled-Not** o más conocida como **Compuerta Toffoli**."
   ]
  },
  {
   "cell_type": "markdown",
   "metadata": {},
   "source": [
    "La agregamos a nuestro circuito anterior del medio sumador para completarlo. Agregamos la Toffoli al qubit #3 ya que es nuestro carry:"
   ]
  },
  {
   "cell_type": "code",
   "execution_count": 6,
   "metadata": {},
   "outputs": [
    {
     "data": {
      "image/png": "[encoded data removed]",
      "text/plain": [
       "<Figure size 628.397x325.08 with 1 Axes>"
      ]
     },
     "execution_count": 6,
     "metadata": {},
     "output_type": "execute_result"
    }
   ],
   "source": [
    "# 4 qubits y 2 clásicos para leer el resultado\n",
    "qc_ha = QuantumCircuit(4,2)\n",
    "\n",
    "\n",
    "# Codificamos entradas\n",
    "qc_ha.x(0)\n",
    "# Dividimos con una barrera en todos los bits\n",
    "qc_ha.barrier() \n",
    "\n",
    "\n",
    "# CNOTs para sumar, invertimos los control y target en cada uno \n",
    "qc_ha.cx(0,2)\n",
    "qc_ha.cx(1,2)\n",
    "# Dividimos con una barrera en todos los bits\n",
    "qc_ha.barrier() \n",
    "\n",
    "### Toffoli ###\n",
    "qc_ha.ccx(0,1,3) \n",
    "# Dividimos con una barrera en todos los bits\n",
    "qc_ha.barrier() \n",
    "\n",
    "# Esta es otra forma de medir\n",
    "# Primero le pasamos los qubits a medir\n",
    "# y luego los bits clásicos donde se miden cada uno\n",
    "qc_ha.measure([2,3],[0,1])\n",
    "              \n",
    "### Dibujamos ###\n",
    "qc_ha.draw('mpl')"
   ]
  },
  {
   "cell_type": "markdown",
   "metadata": {},
   "source": [
    "Vamos a revisar el resultado:"
   ]
  },
  {
   "cell_type": "code",
   "execution_count": 9,
   "metadata": {},
   "outputs": [],
   "source": [
    "# Creamos una variable donde hacemos una llamada a Aer que es uno de los componentes de Qiskit\n",
    "# que nos proporciona simuladores de computación cuántica de alto rendimiento con modelos \n",
    "# realistas de ruido. (como el que sufre una computadora cuántica al perder información)\n",
    "# El simulador qasm requiere de mediciones para funcionar correctamente \n",
    "sim = Aer.get_backend('qasm_simulator')\n",
    "\n",
    "# El resultado sera el método .run() de nuestra simulación pasandole el objeto cuántico qobj\n",
    "# y obtenemos el resultado con el método .result()\n",
    "result = sim.run(qobj).result()"
   ]
  },
  {
   "cell_type": "code",
   "execution_count": 10,
   "metadata": {},
   "outputs": [
    {
     "data": {
      "image/png": "[encoded data removed]",
      "text/plain": [
       "<Figure size 504x360 with 1 Axes>"
      ]
     },
     "execution_count": 10,
     "metadata": {},
     "output_type": "execute_result"
    }
   ],
   "source": [
    "# Convertimos nuestro circuito cuántico en un objeto que nuestro backend sabe ejecutar\n",
    "qobj = assemble(qc_ha)\n",
    "\n",
    "# Obtenemos el conteo de resultados\n",
    "counts = result.get_counts()\n",
    "\n",
    "plot_histogram(counts)"
   ]
  },
  {
   "cell_type": "markdown",
   "metadata": {},
   "source": [
    "---"
   ]
  }
 ],
 "metadata": {
  "kernelspec": {
   "display_name": "Python 3",
   "language": "python",
   "name": "python3"
  },
  "language_info": {
   "codemirror_mode": {
    "name": "ipython",
    "version": 3
   },
   "file_extension": ".py",
   "mimetype": "text/x-python",
   "name": "python",
   "nbconvert_exporter": "python",
   "pygments_lexer": "ipython3",
   "version": "3.8.3"
  },
  "toc": {
   "base_numbering": 1,
   "nav_menu": {},
   "number_sections": true,
   "sideBar": true,
   "skip_h1_title": false,
   "title_cell": "Table of Contents",
   "title_sidebar": "Contents",
   "toc_cell": false,
   "toc_position": {},
   "toc_section_display": true,
   "toc_window_display": false
  }
 },
 "nbformat": 4,
 "nbformat_minor": 4
}
