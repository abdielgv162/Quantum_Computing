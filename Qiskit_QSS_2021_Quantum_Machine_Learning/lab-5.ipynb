{
 "cells": [
  {
   "cell_type": "markdown",
   "metadata": {},
   "source": [
    "![](https://i.imgur.com/23fd2MA.png)"
   ]
  },
  {
   "cell_type": "markdown",
   "metadata": {},
   "source": [
    "# Lab 5: Hardware Efficient Ansatze for Quantum Machine Learning"
   ]
  },
  {
   "cell_type": "markdown",
   "metadata": {},
   "source": [
    "### Solved by Abdiel Guerrero 💜"
   ]
  },
  {
   "cell_type": "markdown",
   "metadata": {},
   "source": [
    "In this lab, you will see how noise affects a typical parameterized quantum circuit used in machine learning using quantum process tomography. "
   ]
  },
  {
   "cell_type": "markdown",
   "metadata": {},
   "source": [
    "<div class=\"alert alert-danger\" role=\"alert\">\n",
    "For grading purposes, please specify all simulator arguments (<i>noise_model=noise_thermal, seed_simulator=3145, seed_transpiler=3145, shots=8192</i>) in the <b><i>execute</i></b> function.\n",
    "</div>"
   ]
  },
  {
   "cell_type": "code",
   "execution_count": 185,
   "metadata": {},
   "outputs": [],
   "source": [
    "# General tools\n",
    "import numpy as np\n",
    "import matplotlib.pyplot as plt\n",
    "\n",
    "# Qiskit Circuit Functions\n",
    "from qiskit import  execute,QuantumCircuit, QuantumRegister, ClassicalRegister, Aer, transpile\n",
    "import qiskit.quantum_info as qi\n",
    "\n",
    "# Tomography functions\n",
    "from qiskit.ignis.verification.tomography import process_tomography_circuits, ProcessTomographyFitter\n",
    "from qiskit.ignis.mitigation.measurement import complete_meas_cal, CompleteMeasFitter\n",
    "\n",
    "import warnings \n",
    "warnings.filterwarnings('ignore')"
   ]
  },
  {
   "cell_type": "markdown",
   "metadata": {},
   "source": [
    "### Question 1\n",
    "- Make this Quantum Circuit\n",
    "\n",
    "![](https://i.imgur.com/5xJyVVb.png)"
   ]
  },
  {
   "cell_type": "code",
   "execution_count": 186,
   "metadata": {},
   "outputs": [],
   "source": [
    "from math import pi"
   ]
  },
  {
   "cell_type": "code",
   "execution_count": 187,
   "metadata": {},
   "outputs": [],
   "source": [
    "#target = QuantumCircuit(2)\n",
    "\n",
    "#for qubit in range(2):\n",
    "#    target.h([qubit])\n",
    "#    target.rx(pi/2, qubit)\n",
    "#target.cx(0,1)\n",
    "#target.p(pi, 1)\n",
    "#target.cx(0,1)"
   ]
  },
  {
   "cell_type": "code",
   "execution_count": 188,
   "metadata": {},
   "outputs": [
    {
     "data": {
      "text/plain": [
       "<qiskit.circuit.instructionset.InstructionSet at 0x7ff21884c5e0>"
      ]
     },
     "execution_count": 188,
     "metadata": {},
     "output_type": "execute_result"
    }
   ],
   "source": [
    "# Adding a register to use in the \n",
    "# process_tomography_circuits() instruction \n",
    "\n",
    "target_register = QuantumRegister(2)\n",
    "target = QuantumCircuit(target_register)\n",
    "\n",
    "for qubit in range(2):\n",
    "    target.h([qubit])\n",
    "    target.rx(pi/2, qubit)\n",
    "target.cx(0,1)\n",
    "target.p(pi, 1)\n",
    "target.cx(0,1)"
   ]
  },
  {
   "cell_type": "code",
   "execution_count": 189,
   "metadata": {},
   "outputs": [
    {
     "name": "stdout",
     "output_type": "stream",
     "text": [
      "Operator([[ 8.32667268e-17-5.000000e-01j,  5.00000000e-01+0.000000e+00j,\n",
      "            5.00000000e-01+0.000000e+00j,  8.32667268e-17+5.000000e-01j],\n",
      "          [-2.20343869e-17+5.000000e-01j,  5.00000000e-01-6.123234e-17j,\n",
      "           -5.00000000e-01+6.123234e-17j,  1.44499067e-16+5.000000e-01j],\n",
      "          [-2.20343869e-17+5.000000e-01j, -5.00000000e-01+6.123234e-17j,\n",
      "            5.00000000e-01-6.123234e-17j,  1.44499067e-16+5.000000e-01j],\n",
      "          [ 8.32667268e-17-5.000000e-01j, -5.00000000e-01+0.000000e+00j,\n",
      "           -5.00000000e-01+0.000000e+00j,  8.32667268e-17+5.000000e-01j]],\n",
      "         input_dims=(2, 2), output_dims=(2, 2))\n"
     ]
    }
   ],
   "source": [
    "# Obtain Operator based on out target circuit\n",
    "target_unitary = qi.Operator(target)\n",
    "print(target_unitary)"
   ]
  },
  {
   "cell_type": "code",
   "execution_count": 190,
   "metadata": {},
   "outputs": [
    {
     "data": {
      "image/png": "[encoded data removed]",
      "text/plain": [
       "<Figure size 413.849x144.48 with 1 Axes>"
      ]
     },
     "execution_count": 190,
     "metadata": {},
     "output_type": "execute_result"
    }
   ],
   "source": [
    "target.draw('mpl')"
   ]
  },
  {
   "cell_type": "code",
   "execution_count": 191,
   "metadata": {},
   "outputs": [
    {
     "name": "stdout",
     "output_type": "stream",
     "text": [
      "Submitting your answer for lab5/ex1. Please wait...\n",
      "Congratulations 🎉! Your answer is correct and has been submitted.\n"
     ]
    }
   ],
   "source": [
    "from qc_grader import grade_lab5_ex1\n",
    "\n",
    "# Note that the grading function is expecting a quantum circuit with no measurements\n",
    "grade_lab5_ex1(target)"
   ]
  },
  {
   "cell_type": "markdown",
   "metadata": {},
   "source": [
    "# Quantum Process Tomography with Only Shot Noise\n",
    "Here we will now use the `qasm_simulator` to simulate a Quantum Process Tomography Circuit\n",
    "\n",
    "### Question 2a\n",
    "- Using the Process Tomography Circuits function built into qiskit, create the set of circuits to do quantum process tomography and simulation with a qasm simulator (with shot noise only). For this please use the execute function of the QPT Circuits with `seed_simulator=3145`, `seed_transpiler=3145` and `shots=8192`. \n",
    "\n",
    "\n",
    "- _Hint: The appropriate function, <a href=\"https://qiskit.org/documentation/stubs/qiskit.ignis.verification.process_tomography_circuits.html\">process_tomography_circuits</a>, has been imported above. When complete you should have a total of 144 circuits that are given to the `qasm_simulator` via the `execute` function. You can find out the number of circuits created using `len(qpt_circs)`._"
   ]
  },
  {
   "cell_type": "code",
   "execution_count": 192,
   "metadata": {},
   "outputs": [],
   "source": [
    "simulator = Aer.get_backend('qasm_simulator')\n",
    "\n",
    "### Process Tomography ### \n",
    "qpt_circs = process_tomography_circuits(target, target_register)\n",
    "\n",
    "qpt_job = execute(qpt_circs,simulator,seed_simulator=3145,seed_transpiler=3145,shots=8192)\n",
    "\n",
    "qpt_result = qpt_job.result()"
   ]
  },
  {
   "cell_type": "code",
   "execution_count": 193,
   "metadata": {},
   "outputs": [
    {
     "data": {
      "text/plain": [
       "144"
      ]
     },
     "execution_count": 193,
     "metadata": {},
     "output_type": "execute_result"
    }
   ],
   "source": [
    "len(qpt_circs)"
   ]
  },
  {
   "cell_type": "markdown",
   "metadata": {},
   "source": [
    "### Question 2b\n",
    "- Using a least squares fitting method for the Process Tomography Fitter, determine the fidelity of your target unitary\n",
    "\n",
    "\n",
    "\n",
    "- _Hint: First use the <a href=\"https://qiskit.org/documentation/stubs/qiskit.ignis.verification.ProcessTomographyFitter.html\">ProcessTomographyFitter</a> function above to process the results from question 2a and use ProcessTomographyFitter.fit(method='....') to extract the \"Choi Matrix\", which effectively describes the measured unitary operation.  From here you will use the <a href=\"https://qiskit.org/documentation/stubs/qiskit.quantum_info.average_gate_fidelity.html#qiskit.quantum_info.average_gate_fidelity\">average_gate_fidelity</a> function from the quantum information module to extract the achieved fidelity of your results_"
   ]
  },
  {
   "cell_type": "code",
   "execution_count": 194,
   "metadata": {},
   "outputs": [
    {
     "name": "stdout",
     "output_type": "stream",
     "text": [
      "Choi([[ 2.51101114e-01+0.00000000e+00j, -2.47327284e-01-6.76316677e-05j,\n",
      "       -2.47889589e-01+2.42534281e-04j,  2.48694256e-01+1.96694414e-04j,\n",
      "       -4.08829330e-03-2.49382499e-01j, -1.61689837e-03-2.48056060e-01j,\n",
      "        3.52076939e-03+2.48205722e-01j,  3.02897423e-03+2.49982014e-01j,\n",
      "       -1.31306126e-03-2.48268426e-01j, -8.72851602e-05+2.48869549e-01j,\n",
      "       -1.38226605e-03-2.51276921e-01j,  2.00138617e-03+2.48468499e-01j,\n",
      "       -2.47498518e-01+1.65990428e-04j, -2.47567283e-01+4.12794568e-03j,\n",
      "       -2.50379825e-01+1.91307321e-03j, -2.48160574e-01+3.32030963e-03j],\n",
      "      [-2.47327284e-01+6.76316677e-05j,  2.44726763e-01+0.00000000e+00j,\n",
      "        2.45537408e-01-1.70792870e-04j, -2.45685255e-01-1.60556810e-04j,\n",
      "        3.66542848e-03+2.46817501e-01j,  2.58192642e-03+2.46245042e-01j,\n",
      "       -3.99511872e-03-2.45428235e-01j, -3.33244478e-03-2.47442362e-01j,\n",
      "        1.41134752e-03+2.45403351e-01j,  1.10504969e-04-2.46874307e-01j,\n",
      "        2.50077833e-03+2.47277678e-01j, -2.44899590e-03-2.45534639e-01j,\n",
      "        2.45533085e-01-2.86927823e-04j,  2.44260674e-01-4.37288414e-03j,\n",
      "        2.47465378e-01-1.69806485e-03j,  2.46074703e-01-3.55733426e-03j],\n",
      "      [-2.47889589e-01-2.42534281e-04j,  2.45537408e-01+1.70792870e-04j,\n",
      "        2.48197760e-01+0.00000000e+00j, -2.47176025e-01-1.30148173e-03j,\n",
      "        2.84336896e-03+2.48300051e-01j,  2.29275136e-03+2.46336893e-01j,\n",
      "       -3.21434043e-03-2.46656118e-01j, -2.64765384e-03-2.48516213e-01j,\n",
      "        1.74894756e-03+2.45911281e-01j,  1.45067184e-03-2.47616331e-01j,\n",
      "        1.48256829e-03+2.47608697e-01j, -9.49643446e-04-2.45786801e-01j,\n",
      "        2.46862983e-01-2.91748718e-05j,  2.42819290e-01-4.03877777e-03j,\n",
      "        2.48992181e-01-1.67485265e-03j,  2.46913374e-01-2.37920426e-03j],\n",
      "      [ 2.48694256e-01-1.96694414e-04j, -2.45685255e-01+1.60556810e-04j,\n",
      "       -2.47176025e-01+1.30148173e-03j,  2.54052577e-01+0.00000000e+00j,\n",
      "       -2.69307951e-03-2.48280293e-01j, -2.23592758e-03-2.50861005e-01j,\n",
      "        5.39539472e-04+2.46757874e-01j,  1.53690400e-03+2.46697112e-01j,\n",
      "       -1.79557971e-03-2.45216825e-01j,  1.13807458e-03+2.48263403e-01j,\n",
      "       -5.11453762e-03-2.51129487e-01j,  7.96976195e-05+2.44376602e-01j,\n",
      "       -2.46817257e-01+6.78529344e-04j, -2.46676063e-01+2.59069398e-03j,\n",
      "       -2.46881834e-01+6.85753513e-03j, -2.49296276e-01+4.04352789e-03j],\n",
      "      [-4.08829330e-03+2.49382499e-01j,  3.66542848e-03-2.46817501e-01j,\n",
      "        2.84336896e-03-2.48300051e-01j, -2.69307951e-03+2.48280293e-01j,\n",
      "        2.49834312e-01+0.00000000e+00j,  2.47828473e-01+2.55513716e-04j,\n",
      "       -2.48521220e-01+2.04126591e-04j, -2.50169760e-01-8.42331476e-04j,\n",
      "        2.47216255e-01+2.43592693e-03j, -2.49008947e-01-4.03763580e-03j,\n",
      "        2.48503988e-01+1.59803872e-03j, -2.48138176e-01-2.49294806e-03j,\n",
      "        3.00792745e-03-2.47804252e-01j, -2.09543516e-04-2.45782288e-01j,\n",
      "        2.22547401e-03-2.48941548e-01j, -1.16597928e-04-2.48311507e-01j],\n",
      "      [-1.61689837e-03+2.48056060e-01j,  2.58192642e-03-2.46245042e-01j,\n",
      "        2.29275136e-03-2.46336893e-01j, -2.23592758e-03+2.50861005e-01j,\n",
      "        2.47828473e-01-2.55513716e-04j,  2.52171716e-01+0.00000000e+00j,\n",
      "       -2.46822499e-01+1.71408804e-04j, -2.47897794e-01+2.01539842e-04j,\n",
      "        2.46243634e-01+1.08557052e-03j, -2.49335064e-01-1.74089137e-03j,\n",
      "        2.50433386e-01-4.13331189e-03j, -2.45895338e-01+1.08139882e-04j,\n",
      "        2.55701298e-03-2.47622803e-01j, -1.53435732e-03-2.47708257e-01j,\n",
      "       -2.11227322e-03-2.47302814e-01j, -1.64121948e-03-2.49736170e-01j],\n",
      "      [ 3.52076939e-03-2.48205722e-01j, -3.99511872e-03+2.45428235e-01j,\n",
      "       -3.21434043e-03+2.46656118e-01j,  5.39539472e-04-2.46757874e-01j,\n",
      "       -2.48521220e-01-2.04126591e-04j, -2.46822499e-01-1.71408804e-04j,\n",
      "        2.48647403e-01+0.00000000e+00j,  2.49624728e-01+1.87758421e-03j,\n",
      "       -2.45867420e-01-2.90521965e-03j,  2.46977083e-01+4.82100749e-03j,\n",
      "       -2.47186357e-01-5.12775157e-04j,  2.47847529e-01+3.44826648e-03j,\n",
      "       -3.72978982e-03+2.46276452e-01j,  8.91036706e-04+2.45002683e-01j,\n",
      "       -2.98214386e-03+2.45982849e-01j, -6.47466090e-05+2.46721719e-01j],\n",
      "      [ 3.02897423e-03-2.49982014e-01j, -3.33244478e-03+2.47442362e-01j,\n",
      "       -2.64765384e-03+2.48516213e-01j,  1.53690400e-03-2.46697112e-01j,\n",
      "       -2.50169760e-01+8.42331476e-04j, -2.47897794e-01-2.01539842e-04j,\n",
      "        2.49624728e-01-1.87758421e-03j,  2.51699580e-01+0.00000000e+00j,\n",
      "       -2.48163858e-01-2.13307703e-03j,  2.49524898e-01+4.40223891e-03j,\n",
      "       -2.48970450e-01-1.10915582e-03j,  2.50076730e-01+1.35392419e-03j,\n",
      "       -3.05623813e-03+2.48316272e-01j,  1.35758063e-03+2.46307957e-01j,\n",
      "       -3.25982698e-03+2.49575307e-01j,  1.73778806e-04+2.48454912e-01j],\n",
      "      [-1.31306126e-03+2.48268426e-01j,  1.41134752e-03-2.45403351e-01j,\n",
      "        1.74894756e-03-2.45911281e-01j, -1.79557971e-03+2.45216825e-01j,\n",
      "        2.47216255e-01-2.43592693e-03j,  2.46243634e-01-1.08557052e-03j,\n",
      "       -2.45867420e-01+2.90521965e-03j, -2.48163858e-01+2.13307703e-03j,\n",
      "        2.46455452e-01+0.00000000e+00j, -2.47103306e-01-1.52944988e-03j,\n",
      "        2.47865300e-01-5.57986036e-04j, -2.46296725e-01+1.55011099e-03j,\n",
      "        1.27542843e-03-2.45930336e-01j, -3.63938824e-03-2.45083403e-01j,\n",
      "        4.52579901e-04-2.48524320e-01j, -2.09717256e-03-2.46107418e-01j],\n",
      "      [-8.72851602e-05-2.48869549e-01j,  1.10504969e-04+2.46874307e-01j,\n",
      "        1.45067184e-03+2.47616331e-01j,  1.13807458e-03-2.48263403e-01j,\n",
      "       -2.49008947e-01+4.03763580e-03j, -2.49335064e-01+1.74089137e-03j,\n",
      "        2.46977083e-01-4.82100749e-03j,  2.49524898e-01-4.40223891e-03j,\n",
      "       -2.47103306e-01+1.52944988e-03j,  2.50702468e-01+0.00000000e+00j,\n",
      "       -2.50141526e-01+2.73573302e-03j,  2.48040172e-01-3.33873523e-03j,\n",
      "        6.92535607e-04+2.48143281e-01j,  2.63883175e-03+2.46201718e-01j,\n",
      "        2.68811830e-03+2.50361831e-01j,  3.47155458e-03+2.49555890e-01j],\n",
      "      [-1.38226605e-03+2.51276921e-01j,  2.50077833e-03-2.47277678e-01j,\n",
      "        1.48256829e-03-2.47608697e-01j, -5.11453762e-03+2.51129487e-01j,\n",
      "        2.48503988e-01-1.59803872e-03j,  2.50433386e-01+4.13331189e-03j,\n",
      "       -2.47186357e-01+5.12775157e-04j, -2.48970450e-01+1.10915582e-03j,\n",
      "        2.47865300e-01+5.57986036e-04j, -2.50141526e-01-2.73573302e-03j,\n",
      "        2.55298585e-01+0.00000000e+00j, -2.47993909e-01+5.07812591e-04j,\n",
      "        2.80231128e-03-2.47606193e-01j,  1.86652969e-05-2.48299663e-01j,\n",
      "       -2.44950818e-03-2.51684540e-01j,  3.62386843e-04-2.49865384e-01j],\n",
      "      [ 2.00138617e-03-2.48468499e-01j, -2.44899590e-03+2.45534639e-01j,\n",
      "       -9.49643446e-04+2.45786801e-01j,  7.96976195e-05-2.44376602e-01j,\n",
      "       -2.48138176e-01+2.49294806e-03j, -2.45895338e-01-1.08139882e-04j,\n",
      "        2.47847529e-01-3.44826648e-03j,  2.50076730e-01-1.35392419e-03j,\n",
      "       -2.46296725e-01-1.55011099e-03j,  2.48040172e-01+3.33873523e-03j,\n",
      "       -2.47993909e-01-5.07812591e-04j,  2.49345450e-01+0.00000000e+00j,\n",
      "       -2.04841411e-03+2.46077230e-01j,  1.35217623e-03+2.45330842e-01j,\n",
      "       -2.40436902e-03+2.47631817e-01j,  1.16633325e-03+2.46725802e-01j],\n",
      "      [-2.47498518e-01-1.65990428e-04j,  2.45533085e-01+2.86927823e-04j,\n",
      "        2.46862983e-01+2.91748718e-05j, -2.46817257e-01-6.78529344e-04j,\n",
      "        3.00792745e-03+2.47804252e-01j,  2.55701298e-03+2.47622803e-01j,\n",
      "       -3.72978982e-03-2.46276452e-01j, -3.05623813e-03-2.48316272e-01j,\n",
      "        1.27542843e-03+2.45930336e-01j,  6.92535607e-04-2.48143281e-01j,\n",
      "        2.80231128e-03+2.47606193e-01j, -2.04841411e-03-2.46077230e-01j,\n",
      "        2.46820786e-01+0.00000000e+00j,  2.44335266e-01-3.95571769e-03j,\n",
      "        2.48235654e-01-1.63585758e-03j,  2.47396526e-01-3.13020644e-03j],\n",
      "      [-2.47567283e-01-4.12794568e-03j,  2.44260674e-01+4.37288414e-03j,\n",
      "        2.42819290e-01+4.03877777e-03j, -2.46676063e-01-2.59069398e-03j,\n",
      "       -2.09543516e-04+2.45782288e-01j, -1.53435732e-03+2.47708257e-01j,\n",
      "        8.91036706e-04-2.45002683e-01j,  1.35758063e-03-2.46307957e-01j,\n",
      "       -3.63938824e-03+2.45083403e-01j,  2.63883175e-03-2.46201718e-01j,\n",
      "        1.86652969e-05+2.48299663e-01j,  1.35217623e-03-2.45330842e-01j,\n",
      "        2.44335266e-01+3.95571769e-03j,  2.47504597e-01+0.00000000e+00j,\n",
      "        2.45183268e-01+1.54153758e-03j,  2.46055231e-01-7.27942749e-04j],\n",
      "      [-2.50379825e-01-1.91307321e-03j,  2.47465378e-01+1.69806485e-03j,\n",
      "        2.48992181e-01+1.67485265e-03j, -2.46881834e-01-6.85753513e-03j,\n",
      "        2.22547401e-03+2.48941548e-01j, -2.11227322e-03+2.47302814e-01j,\n",
      "       -2.98214386e-03-2.45982849e-01j, -3.25982698e-03-2.49575307e-01j,\n",
      "        4.52579901e-04+2.48524320e-01j,  2.68811830e-03-2.50361831e-01j,\n",
      "       -2.44950818e-03+2.51684540e-01j, -2.40436902e-03-2.47631817e-01j,\n",
      "        2.48235654e-01+1.63585758e-03j,  2.45183268e-01-1.54153758e-03j,\n",
      "        2.54275053e-01+0.00000000e+00j,  2.48556440e-01+5.38281332e-05j],\n",
      "      [-2.48160574e-01-3.32030963e-03j,  2.46074703e-01+3.55733426e-03j,\n",
      "        2.46913374e-01+2.37920426e-03j, -2.49296276e-01-4.04352789e-03j,\n",
      "       -1.16597928e-04+2.48311507e-01j, -1.64121948e-03+2.49736170e-01j,\n",
      "       -6.47466090e-05-2.46721719e-01j,  1.73778806e-04-2.48454912e-01j,\n",
      "       -2.09717256e-03+2.46107418e-01j,  3.47155458e-03-2.49555890e-01j,\n",
      "        3.62386843e-04+2.49865384e-01j,  1.16633325e-03-2.46725802e-01j,\n",
      "        2.47396526e-01+3.13020644e-03j,  2.46055231e-01+7.27942749e-04j,\n",
      "        2.48556440e-01-5.38281332e-05j,  2.49166383e-01+0.00000000e+00j]],\n",
      "     input_dims=(2, 2), output_dims=(2, 2))\n"
     ]
    }
   ],
   "source": [
    "ptf = ProcessTomographyFitter(qpt_result, qpt_circs)\n",
    "choi_matrix = ptf.fit(method='lstsq')\n",
    "print(choi_matrix)"
   ]
  },
  {
   "cell_type": "code",
   "execution_count": 195,
   "metadata": {},
   "outputs": [
    {
     "name": "stdout",
     "output_type": "stream",
     "text": [
      "0.9926697818280223\n"
     ]
    }
   ],
   "source": [
    "fidelity = qi.average_gate_fidelity(choi_matrix,target_unitary)\n",
    "print(fidelity)"
   ]
  },
  {
   "cell_type": "code",
   "execution_count": 196,
   "metadata": {},
   "outputs": [
    {
     "name": "stdout",
     "output_type": "stream",
     "text": [
      "Submitting your answer for lab5/ex2. Please wait...\n",
      "Congratulations 🎉! Your answer is correct and has been submitted.\n"
     ]
    }
   ],
   "source": [
    "from qc_grader import grade_lab5_ex2\n",
    "\n",
    "# Note that the grading function is expecting a floating point number\n",
    "grade_lab5_ex2(fidelity)"
   ]
  },
  {
   "cell_type": "markdown",
   "metadata": {},
   "source": [
    "# Quantum Process Tomography with a T1/T2 Noise Model\n",
    "For the sake of consistency, let's set some values to characterize the duration of our gates and T1/T2 times:"
   ]
  },
  {
   "cell_type": "code",
   "execution_count": 197,
   "metadata": {},
   "outputs": [],
   "source": [
    "### T1 and T2 values for qubits 0-3 ###\n",
    "# T1 = Relaxation time, systems tend to dump energy into their surrounding\n",
    "# T2 = Q systems lose coherence as a result of interacting with the environment\n",
    "\n",
    "T1s = [15000, 19000, 22000, 14000]\n",
    "T2s = [30000, 25000, 18000, 28000]\n",
    "\n",
    "### Instruction times (in nanoseconds) ###\n",
    "time_u1 = 0   # virtual gate\n",
    "time_u2 = 50  # (single X90 pulse)\n",
    "time_u3 = 100 # (two X90 pulses)\n",
    "time_cx = 300\n",
    "time_reset = 1000  # 1 microsecond\n",
    "time_measure = 1000 # 1 microsecond"
   ]
  },
  {
   "cell_type": "code",
   "execution_count": 198,
   "metadata": {},
   "outputs": [],
   "source": [
    "from qiskit.providers.aer.noise import thermal_relaxation_error\n",
    "from qiskit.providers.aer.noise import NoiseModel"
   ]
  },
  {
   "cell_type": "markdown",
   "metadata": {},
   "source": [
    "### Question 3\n",
    "- Using the Thermal Relaxation Error model built into qiskit, define `u1`,`u2`,`u3`, `cx`, `measurement` and `reset` errors using the values for qubits 0-3 defined above, and build a thermal noise model.\n",
    "\n",
    "\n",
    "- _Hint: The Qiskit tutorial on <a href=\"https://github.com/Qiskit/qiskit-tutorials/blob/master/tutorials/simulators/3_building_noise_models.ipynb\">building noise models</a>  will prove to be useful, particularly where they add quantum errors for `u1`,`u2`,`u3`,`cx`, `reset`, and `measurement` errors (please include all of these)._"
   ]
  },
  {
   "cell_type": "code",
   "execution_count": 199,
   "metadata": {},
   "outputs": [],
   "source": [
    "# QuantumError objects\n",
    "errors_reset = [thermal_relaxation_error(t1, t2, time_reset)\n",
    "                for t1, t2 in zip(T1s, T2s)]\n",
    "\n",
    "errors_measure = [thermal_relaxation_error(t1, t2, time_measure)\n",
    "                  for t1, t2 in zip(T1s, T2s)]\n",
    "\n",
    "errors_u1  = [thermal_relaxation_error(t1, t2, time_u1)\n",
    "              for t1, t2 in zip(T1s, T2s)]\n",
    "\n",
    "errors_u2  = [thermal_relaxation_error(t1, t2, time_u2)\n",
    "              for t1, t2 in zip(T1s, T2s)]\n",
    "\n",
    "errors_u3  = [thermal_relaxation_error(t1, t2, time_u3)\n",
    "              for t1, t2 in zip(T1s, T2s)]\n",
    "\n",
    "errors_cx = [[thermal_relaxation_error(t1a, t2a, time_cx).expand(\n",
    "             thermal_relaxation_error(t1b, t2b, time_cx))\n",
    "              for t1a, t2a in zip(T1s, T2s)]\n",
    "               for t1b, t2b in zip(T1s, T2s)]\n",
    "\n",
    "# Add errors to noise model\n",
    "noise_thermal = NoiseModel()"
   ]
  },
  {
   "cell_type": "markdown",
   "metadata": {},
   "source": [
    "* Hint: The Qiskit tutorial on building noise models will prove to be useful, particularly where they add quantum errors for `u1`,`u2`,`u3`,`cx`, `reset`, and `measurement` errors (please include all of these)."
   ]
  },
  {
   "cell_type": "code",
   "execution_count": 200,
   "metadata": {},
   "outputs": [],
   "source": [
    "# From Qubit 0 to Qubit 3\n",
    "for i in range(4):\n",
    "    #print(i)\n",
    "    noise_thermal.add_quantum_error(errors_reset[i], 'reset', [i])\n",
    "    noise_thermal.add_quantum_error(errors_measure[i], 'measure', [i])\n",
    "    noise_thermal.add_quantum_error(errors_u1[i], 'u1', [i])\n",
    "    noise_thermal.add_quantum_error(errors_u2[i], 'u2', [i])\n",
    "    noise_thermal.add_quantum_error(errors_u3[i], 'u3', [i])\n",
    "    for j in range(4):\n",
    "        noise_thermal.add_quantum_error(errors_cx[i][j], 'cx', [i,j])"
   ]
  },
  {
   "cell_type": "code",
   "execution_count": 201,
   "metadata": {},
   "outputs": [
    {
     "data": {
      "text/plain": [
       "<NoiseModel on ['cx', 'u2', 'measure', 'u3', 'reset']>"
      ]
     },
     "execution_count": 201,
     "metadata": {},
     "output_type": "execute_result"
    }
   ],
   "source": [
    "noise_thermal"
   ]
  },
  {
   "cell_type": "code",
   "execution_count": 202,
   "metadata": {},
   "outputs": [
    {
     "name": "stdout",
     "output_type": "stream",
     "text": [
      "Submitting your answer for lab5/ex3. Please wait...\n",
      "Congratulations 🎉! Your answer is correct and has been submitted.\n"
     ]
    }
   ],
   "source": [
    "from qc_grader import grade_lab5_ex3\n",
    "\n",
    "# Note that the grading function is expecting a NoiseModel\n",
    "grade_lab5_ex3(noise_thermal)"
   ]
  },
  {
   "cell_type": "markdown",
   "metadata": {},
   "source": [
    "### Question 4.\n",
    "- Get a QPT fidelity using the noise model,but without using any error mitigation techniques.  Again, use `seed_simulator=3145`, `seed_transpiler=3145` and `shots=8192` for the `execute` function\n",
    "\n",
    "\n",
    "\n",
    "- _Hint: The process here should be very similar to that in question 2a/b, except you will need to ensure you include the noise model from question 3 in the `execute` function_"
   ]
  },
  {
   "cell_type": "code",
   "execution_count": 203,
   "metadata": {},
   "outputs": [],
   "source": [
    "np.random.seed(0)"
   ]
  },
  {
   "cell_type": "code",
   "execution_count": 204,
   "metadata": {},
   "outputs": [
    {
     "data": {
      "text/plain": [
       "AerSimulator('aer_simulator'\n",
       "             noise_model=<NoiseModel on ['cx', 'u2', 'measure', 'u3', 'reset']>)"
      ]
     },
     "execution_count": 204,
     "metadata": {},
     "output_type": "execute_result"
    }
   ],
   "source": [
    "from qiskit.providers.aer import AerSimulator\n",
    "\n",
    "### Create Noisy Simulator ###\n",
    "noisy_simulator = AerSimulator(noise_model=noise_thermal)\n",
    "noisy_simulator"
   ]
  },
  {
   "cell_type": "code",
   "execution_count": 205,
   "metadata": {},
   "outputs": [
    {
     "data": {
      "text/plain": [
       "list"
      ]
     },
     "execution_count": 205,
     "metadata": {},
     "output_type": "execute_result"
    }
   ],
   "source": [
    "### Transpile circuit for noisy basis gates ###\n",
    "noisy_circuit = transpile(qpt_circs)\n",
    "type(noisy_circuit)"
   ]
  },
  {
   "cell_type": "code",
   "execution_count": 206,
   "metadata": {},
   "outputs": [
    {
     "data": {
      "text/plain": [
       "qiskit.result.result.Result"
      ]
     },
     "execution_count": 206,
     "metadata": {},
     "output_type": "execute_result"
    }
   ],
   "source": [
    "qpt_noisy_job = execute(noisy_circuit,noisy_simulator\n",
    "                  ,seed_simulator=3145,seed_transpiler=3145,shots=8192)\n",
    "\n",
    "qpt_noisy_result = qpt_noisy_job.result()\n",
    "type(qpt_noisy_result)"
   ]
  },
  {
   "cell_type": "code",
   "execution_count": 207,
   "metadata": {},
   "outputs": [
    {
     "data": {
      "text/plain": [
       "144"
      ]
     },
     "execution_count": 207,
     "metadata": {},
     "output_type": "execute_result"
    }
   ],
   "source": [
    "len(qpt_circs)"
   ]
  },
  {
   "cell_type": "code",
   "execution_count": 208,
   "metadata": {},
   "outputs": [
    {
     "data": {
      "text/plain": [
       "list"
      ]
     },
     "execution_count": 208,
     "metadata": {},
     "output_type": "execute_result"
    }
   ],
   "source": [
    "type(qpt_circs)"
   ]
  },
  {
   "cell_type": "code",
   "execution_count": 209,
   "metadata": {},
   "outputs": [
    {
     "name": "stdout",
     "output_type": "stream",
     "text": [
      "Choi([[ 2.94195462e-01+0.00000000e+00j, -2.22834759e-01-1.71706381e-02j,\n",
      "       -2.36890485e-01-1.63436061e-02j,  1.91043492e-01+2.58746312e-02j,\n",
      "       -1.63930747e-03-2.46949487e-01j,  2.22189248e-04-2.36266456e-01j,\n",
      "       -1.13312558e-02+1.93901868e-01j, -1.12096985e-02+2.06086286e-01j,\n",
      "       -2.06818724e-03-2.44011016e-01j, -1.18257656e-02+1.97084331e-01j,\n",
      "       -2.52248732e-03-2.47151883e-01j, -1.53538899e-02+1.97143252e-01j,\n",
      "       -2.09934063e-01-4.20050664e-03j, -2.05977043e-01+3.69794899e-03j,\n",
      "       -2.13886800e-01+2.62925554e-03j, -1.97565058e-01-3.34711565e-03j],\n",
      "      [-2.22834759e-01+1.71706381e-02j,  2.29745466e-01+0.00000000e+00j,\n",
      "        1.83362401e-01-5.31292493e-03j, -1.93436887e-01-1.30835178e-02j,\n",
      "        5.62745690e-03+2.34848194e-01j,  5.70478735e-03+2.26906580e-01j,\n",
      "        8.74886169e-03-1.94908802e-01j,  7.92862038e-03-1.93220282e-01j,\n",
      "        1.46247894e-02+1.92980583e-01j,  3.81001276e-03-2.03356420e-01j,\n",
      "        1.84222058e-02+1.94306279e-01j, -1.16865391e-03-2.01612824e-01j,\n",
      "        2.02553461e-01+1.69495796e-03j,  1.99389592e-01+5.76117238e-04j,\n",
      "        2.03905689e-01-4.59720143e-04j,  1.97311569e-01-6.93817939e-03j],\n",
      "      [-2.36890485e-01+1.63436061e-02j,  1.83362401e-01+5.31292493e-03j,\n",
      "        2.44561219e-01+0.00000000e+00j, -1.90165255e-01-1.61215501e-02j,\n",
      "        1.36538187e-02+1.99854314e-01j,  1.12919426e-02+1.88170338e-01j,\n",
      "       -2.06638666e-03-2.03784411e-01j, -2.04033963e-03-2.05087644e-01j,\n",
      "        4.07739202e-03+2.38887451e-01j,  1.78633476e-02-1.89879590e-01j,\n",
      "        3.84008302e-03+2.38347337e-01j,  1.34793908e-02-1.90513220e-01j,\n",
      "        2.09154282e-01-5.53685494e-03j,  1.93200450e-01-7.07690966e-03j,\n",
      "        2.09187100e-01-5.86953085e-03j,  1.93401149e-01+2.15284738e-03j],\n",
      "      [ 1.91043492e-01-2.58746312e-02j, -1.93436887e-01+1.30835178e-02j,\n",
      "       -1.90165255e-01+1.61215501e-02j,  2.15327165e-01+0.00000000e+00j,\n",
      "       -9.78102689e-03-2.00406161e-01j, -1.34937290e-02-1.93261387e-01j,\n",
      "       -2.75960396e-03+2.04367757e-01j,  3.33270206e-03+2.00906458e-01j,\n",
      "       -1.71324565e-02-1.89410245e-01j, -6.66023127e-04+2.05906531e-01j,\n",
      "       -2.06876787e-02-1.92242471e-01j, -9.01511470e-04+1.95352044e-01j,\n",
      "       -2.06975283e-01-1.67511208e-03j, -2.00060542e-01+7.41131608e-03j,\n",
      "       -1.97904355e-01+1.18057588e-02j, -1.99517630e-01+4.10703451e-03j],\n",
      "      [-1.63930747e-03+2.46949487e-01j,  5.62745690e-03-2.34848194e-01j,\n",
      "        1.36538187e-02-1.99854314e-01j, -9.78102689e-03+2.00406161e-01j,\n",
      "        2.90353443e-01+0.00000000e+00j,  2.49474260e-01-1.56175223e-02j,\n",
      "       -2.38713174e-01-1.54101758e-02j, -2.19427200e-01-7.99521965e-04j,\n",
      "        2.12091704e-01+3.87858400e-03j, -2.06488670e-01-2.35802021e-03j,\n",
      "        2.09120218e-01+5.40422011e-03j, -2.09738220e-01-7.61516805e-03j,\n",
      "        4.92328966e-03-2.38566520e-01j, -1.04537123e-02-2.14502837e-01j,\n",
      "        5.08416757e-03-2.42409254e-01j, -1.16437174e-02-2.14752119e-01j],\n",
      "      [ 2.22189248e-04+2.36266456e-01j,  5.70478735e-03-2.26906580e-01j,\n",
      "        1.12919426e-02-1.88170338e-01j, -1.34937290e-02+1.93261387e-01j,\n",
      "        2.49474260e-01+1.56175223e-02j,  2.41264226e-01+0.00000000e+00j,\n",
      "       -2.03360891e-01-2.60021380e-02j, -1.99697157e-01-1.22564946e-02j,\n",
      "        2.03572140e-01+3.57712780e-03j, -2.02022316e-01-5.26577488e-03j,\n",
      "        2.01866170e-01-6.00697140e-03j, -1.97665175e-01-4.41448349e-03j,\n",
      "        1.69045251e-02-2.17657733e-01j, -1.88021338e-04-2.11733800e-01j,\n",
      "        1.23982419e-02-2.14797743e-01j, -3.06542679e-03-2.06002881e-01j],\n",
      "      [-1.13312558e-02-1.93901868e-01j,  8.74886169e-03+1.94908802e-01j,\n",
      "       -2.06638666e-03+2.03784411e-01j, -2.75960396e-03-2.04367757e-01j,\n",
      "       -2.38713174e-01+1.54101758e-02j, -2.03360891e-01+2.60021380e-02j,\n",
      "        2.49266731e-01+0.00000000e+00j,  2.16533843e-01-1.36642356e-02j,\n",
      "       -2.14903122e-01+3.49630299e-03j,  2.03318763e-01+3.60239553e-03j,\n",
      "       -2.04714740e-01+3.25154480e-03j,  2.05307534e-01+9.63171295e-04j,\n",
      "       -1.25581415e-03+2.44766162e-01j,  1.85893866e-02+2.12693000e-01j,\n",
      "       -2.16115881e-05+2.34996200e-01j,  1.53152502e-02+2.13088326e-01j],\n",
      "      [-1.12096985e-02-2.06086286e-01j,  7.92862038e-03+1.93220282e-01j,\n",
      "       -2.04033963e-03+2.05087644e-01j,  3.33270206e-03-2.00906458e-01j,\n",
      "       -2.19427200e-01+7.99521965e-04j, -1.99697157e-01+1.22564946e-02j,\n",
      "        2.16533843e-01+1.36642356e-02j,  2.22037793e-01+0.00000000e+00j,\n",
      "       -2.05341655e-01-2.05735342e-04j,  2.04805841e-01+4.62011374e-03j,\n",
      "       -1.99451510e-01-1.98646394e-03j,  2.03989782e-01+1.45306948e-03j,\n",
      "       -1.78279818e-02+2.20300115e-01j, -1.72225834e-04+2.08535549e-01j,\n",
      "       -1.28789420e-02+2.17335630e-01j,  1.17450717e-04+2.05556625e-01j],\n",
      "      [-2.06818724e-03+2.44011016e-01j,  1.46247894e-02-1.92980583e-01j,\n",
      "        4.07739202e-03-2.38887451e-01j, -1.71324565e-02+1.89410245e-01j,\n",
      "        2.12091704e-01-3.87858400e-03j,  2.03572140e-01-3.57712780e-03j,\n",
      "       -2.14903122e-01-3.49630299e-03j, -2.05341655e-01+2.05735342e-04j,\n",
      "        2.89007916e-01+0.00000000e+00j, -2.21782649e-01-1.62937313e-02j,\n",
      "        2.57599855e-01-1.38139091e-02j, -2.09599119e-01-5.19685444e-03j,\n",
      "        3.59845591e-03-2.44469956e-01j, -4.28264110e-03-2.34364758e-01j,\n",
      "       -7.68543897e-03-2.23634825e-01j, -1.25555697e-02-2.15653358e-01j],\n",
      "      [-1.18257656e-02-1.97084331e-01j,  3.81001276e-03+2.03356420e-01j,\n",
      "        1.78633476e-02+1.89879590e-01j, -6.66023127e-04-2.05906531e-01j,\n",
      "       -2.06488670e-01+2.35802021e-03j, -2.02022316e-01+5.26577488e-03j,\n",
      "        2.03318763e-01-3.60239553e-03j,  2.04805841e-01-4.62011374e-03j,\n",
      "       -2.21782649e-01+1.62937313e-02j,  2.37130909e-01+0.00000000e+00j,\n",
      "       -1.98758427e-01+2.59462696e-02j,  2.15167856e-01-1.47999568e-02j,\n",
      "        4.78912676e-04+2.39321786e-01j,  2.01925079e-03+2.27304859e-01j,\n",
      "        1.39322323e-02+2.17270677e-01j,  1.87849969e-02+2.16896253e-01j],\n",
      "      [-2.52248732e-03+2.47151883e-01j,  1.84222058e-02-1.94306279e-01j,\n",
      "        3.84008302e-03-2.38347337e-01j, -2.06876787e-02+1.92242471e-01j,\n",
      "        2.09120218e-01-5.40422011e-03j,  2.01866170e-01+6.00697140e-03j,\n",
      "       -2.04714740e-01-3.25154480e-03j, -1.99451510e-01+1.98646394e-03j,\n",
      "        2.57599855e-01+1.38139091e-02j, -1.98758427e-01-2.59462696e-02j,\n",
      "        2.59470982e-01+0.00000000e+00j, -1.99409216e-01-1.85024235e-02j,\n",
      "        1.09648837e-02-2.12495804e-01j,  7.88931789e-03-2.09884818e-01j,\n",
      "       -3.93420933e-03-2.12456671e-01j,  6.54632238e-03-2.05140186e-01j],\n",
      "      [-1.53538899e-02-1.97143252e-01j, -1.16865391e-03+2.01612824e-01j,\n",
      "        1.34793908e-02+1.90513220e-01j, -9.01511470e-04-1.95352044e-01j,\n",
      "       -2.09738220e-01+7.61516805e-03j, -1.97665175e-01+4.41448349e-03j,\n",
      "        2.05307534e-01-9.63171295e-04j,  2.03989782e-01-1.45306948e-03j,\n",
      "       -2.09599119e-01+5.19685444e-03j,  2.15167856e-01+1.47999568e-02j,\n",
      "       -1.99409216e-01+1.85024235e-02j,  2.16535381e-01+0.00000000e+00j,\n",
      "       -1.85640441e-02+2.18885803e-01j, -1.07017688e-02+2.07979732e-01j,\n",
      "       -5.76788319e-03+2.08836910e-01j,  4.43857453e-03+2.09999567e-01j],\n",
      "      [-2.09934063e-01+4.20050664e-03j,  2.02553461e-01-1.69495796e-03j,\n",
      "        2.09154282e-01+5.53685494e-03j, -2.06975283e-01+1.67511208e-03j,\n",
      "        4.92328966e-03+2.38566520e-01j,  1.69045251e-02+2.17657733e-01j,\n",
      "       -1.25581415e-03-2.44766162e-01j, -1.78279818e-02-2.20300115e-01j,\n",
      "        3.59845591e-03+2.44469956e-01j,  4.78912676e-04-2.39321786e-01j,\n",
      "        1.09648837e-02+2.12495804e-01j, -1.85640441e-02-2.18885803e-01j,\n",
      "        2.95914412e-01+0.00000000e+00j,  2.49119461e-01-2.08243158e-02j,\n",
      "        2.60085767e-01-8.81967659e-03j,  2.36223392e-01-2.76136068e-02j],\n",
      "      [-2.05977043e-01-3.69794899e-03j,  1.99389592e-01-5.76117238e-04j,\n",
      "        1.93200450e-01+7.07690966e-03j, -2.00060542e-01-7.41131608e-03j,\n",
      "       -1.04537123e-02+2.14502837e-01j, -1.88021338e-04+2.11733800e-01j,\n",
      "        1.85893866e-02-2.12693000e-01j, -1.72225834e-04-2.08535549e-01j,\n",
      "       -4.28264110e-03+2.34364758e-01j,  2.01925079e-03-2.27304859e-01j,\n",
      "        7.88931789e-03+2.09884818e-01j, -1.07017688e-02-2.07979732e-01j,\n",
      "        2.49119461e-01+2.08243158e-02j,  2.40695127e-01+0.00000000e+00j,\n",
      "        2.24379997e-01+5.26101416e-03j,  2.20127520e-01-1.14166241e-02j],\n",
      "      [-2.13886800e-01-2.62925554e-03j,  2.03905689e-01+4.59720143e-04j,\n",
      "        2.09187100e-01+5.86953085e-03j, -1.97904355e-01-1.18057588e-02j,\n",
      "        5.08416757e-03+2.42409254e-01j,  1.23982419e-02+2.14797743e-01j,\n",
      "       -2.16115881e-05-2.34996200e-01j, -1.28789420e-02-2.17335630e-01j,\n",
      "       -7.68543897e-03+2.23634825e-01j,  1.39322323e-02-2.17270677e-01j,\n",
      "       -3.93420933e-03+2.12456671e-01j, -5.76788319e-03-2.08836910e-01j,\n",
      "        2.60085767e-01+8.81967659e-03j,  2.24379997e-01-5.26101416e-03j,\n",
      "        2.55102634e-01+0.00000000e+00j,  2.20732508e-01-1.19132140e-02j],\n",
      "      [-1.97565058e-01+3.34711565e-03j,  1.97311569e-01+6.93817939e-03j,\n",
      "        1.93401149e-01-2.15284738e-03j, -1.99517630e-01-4.10703451e-03j,\n",
      "       -1.16437174e-02+2.14752119e-01j, -3.06542679e-03+2.06002881e-01j,\n",
      "        1.53152502e-02-2.13088326e-01j,  1.17450717e-04-2.05556625e-01j,\n",
      "       -1.25555697e-02+2.15653358e-01j,  1.87849969e-02-2.16896253e-01j,\n",
      "        6.54632238e-03+2.05140186e-01j,  4.43857453e-03-2.09999567e-01j,\n",
      "        2.36223392e-01+2.76136068e-02j,  2.20127520e-01+1.14166241e-02j,\n",
      "        2.20732508e-01+1.19132140e-02j,  2.19391133e-01+0.00000000e+00j]],\n",
      "     input_dims=(2, 2), output_dims=(2, 2))\n"
     ]
    }
   ],
   "source": [
    "ptf_noisy = ProcessTomographyFitter(qpt_noisy_result, noisy_circuit)\n",
    "\n",
    "choi_noisy_matrix = ptf_noisy.fit(method='lstsq')\n",
    "print(choi_noisy_matrix)"
   ]
  },
  {
   "cell_type": "code",
   "execution_count": 210,
   "metadata": {},
   "outputs": [
    {
     "name": "stdout",
     "output_type": "stream",
     "text": [
      "0.8862912390201408\n"
     ]
    }
   ],
   "source": [
    "fidelity = qi.average_gate_fidelity(choi_noisy_matrix,target_unitary)\n",
    "print(fidelity)"
   ]
  },
  {
   "cell_type": "code",
   "execution_count": 211,
   "metadata": {},
   "outputs": [
    {
     "name": "stdout",
     "output_type": "stream",
     "text": [
      "Submitting your answer for lab5/ex4. Please wait...\n",
      "Congratulations 🎉! Your answer is correct and has been submitted.\n"
     ]
    }
   ],
   "source": [
    "from qc_grader import grade_lab5_ex4\n",
    "\n",
    "# Note that the grading function is expecting a floating point number\n",
    "grade_lab5_ex4(fidelity)"
   ]
  },
  {
   "cell_type": "markdown",
   "metadata": {},
   "source": [
    "### Question 5. \n",
    "- Use the `complete_meas_cal` function built into qiskit and apply to the QPT results in the previous question. For both, use the `execute` function and `seed_simulator=3145`, `seed_transpiler=3145` and `shots=8192`. Also include the noise model from question 3 in the `execute` function.\n",
    "\n",
    "\n",
    "- *Hint: The Qiskit textbook has a very good chapter on <a href=\"https://qiskit.org/textbook/ch-quantum-hardware/measurement-error-mitigation.html\">`readout error mitigation`</a>. Specifically, you will want to use the <a href=\"https://qiskit.org/documentation/stubs/qiskit.ignis.mitigation.complete_meas_cal.html\">`complete_meas_cal`</a>  function to generate the desired set of circuits to create the calibration matrix with <a href=\"https://qiskit.org/documentation/stubs/qiskit.ignis.mitigation.CompleteMeasFitter.html\">`CompleteMeasureFitter`</a> function. This can then be used to generate a correction matrix <a href=\"https://qiskit.org/documentation/stubs/qiskit.ignis.mitigation.CompleteMeasFitter.html#qiskit.ignis.mitigation.CompleteMeasFitter.filter\">`meas_filter`</a>. Apply this function to the results from question 4.*"
   ]
  },
  {
   "cell_type": "code",
   "execution_count": 183,
   "metadata": {},
   "outputs": [],
   "source": [
    "from qiskit.ignis.mitigation.measurement import complete_meas_cal, CompleteMeasFitter"
   ]
  },
  {
   "cell_type": "code",
   "execution_count": 229,
   "metadata": {},
   "outputs": [],
   "source": [
    "np.random.seed(0)"
   ]
  },
  {
   "cell_type": "code",
   "execution_count": 230,
   "metadata": {},
   "outputs": [],
   "source": [
    "meas_calibl, state_label = complete_meas_cal(qubit_list=[0,1])"
   ]
  },
  {
   "cell_type": "code",
   "execution_count": 231,
   "metadata": {},
   "outputs": [],
   "source": [
    "meas_calibl_job = execute(meas_calibl,noisy_simulator\n",
    "                  ,seed_simulator=3145,seed_transpiler=3145,shots=8192)"
   ]
  },
  {
   "cell_type": "code",
   "execution_count": 232,
   "metadata": {},
   "outputs": [
    {
     "data": {
      "text/plain": [
       "qiskit.result.result.Result"
      ]
     },
     "execution_count": 232,
     "metadata": {},
     "output_type": "execute_result"
    }
   ],
   "source": [
    "meas_cal_job_result = meas_calibl_job.result()\n",
    "type(meas_cal_job_result)"
   ]
  },
  {
   "cell_type": "code",
   "execution_count": 233,
   "metadata": {},
   "outputs": [
    {
     "name": "stdout",
     "output_type": "stream",
     "text": [
      "<qiskit.ignis.mitigation.measurement.fitters.CompleteMeasFitter object at 0x7ff2102a0f70>\n"
     ]
    }
   ],
   "source": [
    "meas_fitter = CompleteMeasFitter(meas_cal_job_result, state_label)\n",
    "print(meas_fitter)"
   ]
  },
  {
   "cell_type": "code",
   "execution_count": 234,
   "metadata": {},
   "outputs": [
    {
     "name": "stdout",
     "output_type": "stream",
     "text": [
      "[[1.         0.07104492 0.05371094 0.00488281]\n",
      " [0.         0.92895508 0.         0.05102539]\n",
      " [0.         0.         0.94628906 0.06518555]\n",
      " [0.         0.         0.         0.87890625]]\n"
     ]
    }
   ],
   "source": [
    "meas_filt_matrix = meas_fitter.cal_matrix\n",
    "print(meas_filt_matrix)"
   ]
  },
  {
   "cell_type": "code",
   "execution_count": 235,
   "metadata": {},
   "outputs": [],
   "source": [
    "# Get the filter object\n",
    "meas_fitter = meas_fitter.filter"
   ]
  },
  {
   "cell_type": "code",
   "execution_count": 236,
   "metadata": {},
   "outputs": [],
   "source": [
    "# Mitigation results\n",
    "mit_results = meas_fitter.apply(qpt_noisy_result)\n",
    "mit_counts = mit_results.get_counts()"
   ]
  },
  {
   "cell_type": "code",
   "execution_count": 239,
   "metadata": {},
   "outputs": [],
   "source": [
    "new_ptf = ProcessTomographyFitter(mit_results, qpt_circs)"
   ]
  },
  {
   "cell_type": "code",
   "execution_count": 241,
   "metadata": {},
   "outputs": [
    {
     "name": "stdout",
     "output_type": "stream",
     "text": [
      "Choi([[ 2.69666610e-01+0.00000000e+00j, -2.45234402e-01+8.77723213e-04j,\n",
      "       -2.49421913e-01-1.33678909e-03j,  2.46599990e-01+8.59802864e-04j,\n",
      "       -3.13853175e-03-2.52401000e-01j,  2.58510559e-04-2.42380102e-01j,\n",
      "        1.74018042e-03+2.34959494e-01j,  3.14528719e-04+2.50829573e-01j,\n",
      "       -3.42341463e-03-2.42135638e-01j,  1.21510150e-03+2.40109595e-01j,\n",
      "       -1.84319813e-03-2.45390892e-01j, -1.10163534e-03+2.39596330e-01j,\n",
      "       -2.37670931e-01-2.76738982e-03j, -2.34812557e-01+2.30897935e-03j,\n",
      "       -2.41122189e-01+4.13150547e-03j, -2.27868156e-01-4.05294914e-03j],\n",
      "      [-2.45234402e-01-8.77723213e-04j,  2.37766947e-01+0.00000000e+00j,\n",
      "        2.33964643e-01-4.36418329e-04j, -2.32654999e-01-8.67758667e-04j,\n",
      "        6.44944994e-03+2.41009409e-01j,  9.53802673e-04+2.34982653e-01j,\n",
      "       -4.15508119e-03-2.33291634e-01j, -1.04848243e-03-2.33604369e-01j,\n",
      "        4.65740201e-04+2.36098002e-01j,  1.56564781e-03-2.31173901e-01j,\n",
      "        3.83594749e-03+2.38200724e-01j, -1.62869638e-03-2.33689591e-01j,\n",
      "        2.30538638e-01-2.10428132e-03j,  2.27821649e-01-1.66277417e-03j,\n",
      "        2.34005773e-01-3.69222354e-03j,  2.27229471e-01-3.44695613e-03j],\n",
      "      [-2.49421913e-01+1.33678909e-03j,  2.33964643e-01+4.36418329e-04j,\n",
      "        2.46763586e-01+0.00000000e+00j, -2.31871947e-01-6.06804552e-04j,\n",
      "        4.27674775e-03+2.39116253e-01j,  6.27933831e-05+2.28802386e-01j,\n",
      "       -5.00952264e-03-2.31016668e-01j, -2.20593578e-03-2.34363933e-01j,\n",
      "        6.65841053e-03+2.37500697e-01j, -6.73283226e-04-2.31541764e-01j,\n",
      "        1.52421322e-03+2.39526994e-01j,  1.75157168e-04-2.33328296e-01j,\n",
      "        2.36470805e-01-8.49888771e-03j,  2.21115177e-01-7.92355819e-03j,\n",
      "        2.39211503e-01-4.42894283e-03j,  2.25875150e-01+3.24729125e-03j],\n",
      "      [ 2.46599990e-01-8.59802864e-04j, -2.32654999e-01+8.67758667e-04j,\n",
      "       -2.31871947e-01+6.06804552e-04j,  2.49060376e-01+0.00000000e+00j,\n",
      "        1.35297127e-03-2.37677571e-01j, -1.49738563e-04-2.36601657e-01j,\n",
      "       -1.90748112e-03+2.31554598e-01j,  2.72646521e-04+2.32169507e-01j,\n",
      "       -2.22872795e-03-2.31515144e-01j,  5.02307842e-04+2.34058331e-01j,\n",
      "       -7.41891216e-03-2.36682031e-01j, -3.11063737e-03+2.23908881e-01j,\n",
      "       -2.32628386e-01-6.63523836e-04j, -2.30411147e-01+6.17315157e-03j,\n",
      "       -2.27160856e-01+1.35472089e-02j, -2.29268756e-01+1.45244617e-03j],\n",
      "      [-3.13853175e-03+2.52401000e-01j,  6.44944994e-03-2.41009409e-01j,\n",
      "        4.27674775e-03-2.39116253e-01j,  1.35297127e-03+2.37677571e-01j,\n",
      "        2.62003703e-01+0.00000000e+00j,  2.37632544e-01-2.97372674e-04j,\n",
      "       -2.46643344e-01-1.59147520e-03j, -2.47154278e-01-2.18380664e-03j,\n",
      "        2.41375606e-01+4.99542091e-03j, -2.35421684e-01-5.47503219e-03j,\n",
      "        2.38315757e-01+7.79980636e-03j, -2.41245506e-01-1.11571273e-02j,\n",
      "        4.54024871e-03-2.36087192e-01j,  1.24076313e-03-2.27772872e-01j,\n",
      "        4.88730292e-03-2.38571964e-01j,  4.64240919e-03-2.28733130e-01j],\n",
      "      [ 2.58510559e-04+2.42380102e-01j,  9.53802673e-04-2.34982653e-01j,\n",
      "        6.27933831e-05-2.28802386e-01j, -1.49738563e-04+2.36601657e-01j,\n",
      "        2.37632544e-01+2.97372674e-04j,  2.40536056e-01+0.00000000e+00j,\n",
      "       -2.29620556e-01-1.65289615e-03j, -2.33090251e-01-1.61850525e-03j,\n",
      "        2.31108545e-01+4.41113352e-03j, -2.32715015e-01-4.09465572e-03j,\n",
      "        2.33279290e-01-7.32590633e-03j, -2.29782139e-01+1.20537755e-04j,\n",
      "        3.72380944e-03-2.31834072e-01j, -6.08827226e-04-2.31009358e-01j,\n",
      "       -1.68347778e-03-2.29125466e-01j, -3.44302048e-03-2.32143814e-01j],\n",
      "      [ 1.74018042e-03-2.34959494e-01j, -4.15508119e-03+2.33291634e-01j,\n",
      "       -5.00952264e-03+2.31016668e-01j, -1.90748112e-03-2.31554598e-01j,\n",
      "       -2.46643344e-01+1.59147520e-03j, -2.29620556e-01+1.65289615e-03j,\n",
      "        2.48225299e-01+0.00000000e+00j,  2.30896899e-01+4.56605430e-04j,\n",
      "       -2.42628652e-01+2.76999389e-03j,  2.28881210e-01+2.91004747e-03j,\n",
      "       -2.35061809e-01-1.03793548e-05j,  2.35779381e-01+4.99639171e-03j,\n",
      "        3.19639830e-04+2.39627325e-01j,  7.38812493e-03+2.26431472e-01j,\n",
      "       -3.08613121e-03+2.33994159e-01j,  2.07324849e-03+2.28902842e-01j],\n",
      "      [ 3.14528719e-04-2.50829573e-01j, -1.04848243e-03+2.33604369e-01j,\n",
      "       -2.20593578e-03+2.34363933e-01j,  2.72646521e-04-2.32169507e-01j,\n",
      "       -2.47154278e-01+2.18380664e-03j, -2.33090251e-01+1.61850525e-03j,\n",
      "        2.30896899e-01-4.56605430e-04j,  2.45935908e-01+0.00000000e+00j,\n",
      "       -2.37626548e-01-4.79551023e-04j,  2.37224733e-01+7.53526407e-04j,\n",
      "       -2.30530746e-01-4.14483108e-03j,  2.35069754e-01+1.11755194e-03j,\n",
      "       -2.00658392e-03+2.35898585e-01j, -5.49092580e-04+2.30693452e-01j,\n",
      "       -7.90807116e-04+2.34521322e-01j, -1.74658536e-03+2.25973542e-01j],\n",
      "      [-3.42341463e-03+2.42135638e-01j,  4.65740201e-04-2.36098002e-01j,\n",
      "        6.65841053e-03-2.37500697e-01j, -2.22872795e-03+2.31515144e-01j,\n",
      "        2.41375606e-01-4.99542091e-03j,  2.31108545e-01-4.41113352e-03j,\n",
      "       -2.42628652e-01-2.76999389e-03j, -2.37626548e-01+4.79551023e-04j,\n",
      "        2.59695299e-01+0.00000000e+00j, -2.42601813e-01+9.09064543e-04j,\n",
      "        2.42143790e-01+1.08226893e-04j, -2.44392055e-01+1.64325480e-04j,\n",
      "        2.74958890e-03-2.47642553e-01j, -5.00416798e-03-2.39959869e-01j,\n",
      "        3.36932931e-03-2.40109812e-01j, -3.30869623e-03-2.35312313e-01j],\n",
      "      [ 1.21510150e-03-2.40109595e-01j,  1.56564781e-03+2.31173901e-01j,\n",
      "       -6.73283226e-04+2.31541764e-01j,  5.02307842e-04-2.34058331e-01j,\n",
      "       -2.35421684e-01+5.47503219e-03j, -2.32715015e-01+4.09465572e-03j,\n",
      "        2.28881210e-01-2.91004747e-03j,  2.37224733e-01-7.53526407e-04j,\n",
      "       -2.42601813e-01-9.09064543e-04j,  2.44149878e-01+0.00000000e+00j,\n",
      "       -2.32337861e-01+1.91039324e-03j,  2.34617565e-01-3.54044855e-03j,\n",
      "        3.11143635e-03+2.42988839e-01j,  1.17486177e-03+2.35627896e-01j,\n",
      "        6.86706867e-03+2.34852375e-01j,  5.41105667e-03+2.35715204e-01j],\n",
      "      [-1.84319813e-03+2.45390892e-01j,  3.83594749e-03-2.38200724e-01j,\n",
      "        1.52421322e-03-2.39526994e-01j, -7.41891216e-03+2.36682031e-01j,\n",
      "        2.38315757e-01-7.79980636e-03j,  2.33279290e-01+7.32590633e-03j,\n",
      "       -2.35061809e-01+1.03793548e-05j, -2.30530746e-01+4.14483108e-03j,\n",
      "        2.42143790e-01-1.08226893e-04j, -2.32337861e-01-1.91039324e-03j,\n",
      "        2.53310020e-01+0.00000000e+00j, -2.37388337e-01-2.86330822e-03j,\n",
      "        8.02709569e-04-2.29648123e-01j, -6.96934326e-04-2.30709065e-01j,\n",
      "       -4.47187970e-03-2.35066962e-01j,  5.78785574e-03-2.33100460e-01j],\n",
      "      [-1.10163534e-03-2.39596330e-01j, -1.62869638e-03+2.33689591e-01j,\n",
      "        1.75157168e-04+2.33328296e-01j, -3.11063737e-03-2.23908881e-01j,\n",
      "       -2.41245506e-01+1.11571273e-02j, -2.29782139e-01-1.20537755e-04j,\n",
      "        2.35779381e-01-4.99639171e-03j,  2.35069754e-01-1.11755194e-03j,\n",
      "       -2.44392055e-01-1.64325480e-04j,  2.34617565e-01+3.54044855e-03j,\n",
      "       -2.37388337e-01+2.86330822e-03j,  2.45288292e-01+0.00000000e+00j,\n",
      "       -4.09688025e-03+2.38942987e-01j, -2.55202862e-03+2.28177107e-01j,\n",
      "       -4.85096836e-03+2.33766379e-01j, -1.67849785e-03+2.34395876e-01j],\n",
      "      [-2.37670931e-01+2.76738982e-03j,  2.30538638e-01+2.10428132e-03j,\n",
      "        2.36470805e-01+8.49888771e-03j, -2.32628386e-01+6.63523836e-04j,\n",
      "        4.54024871e-03+2.36087192e-01j,  3.72380944e-03+2.31834072e-01j,\n",
      "        3.19639830e-04-2.39627325e-01j, -2.00658392e-03-2.35898585e-01j,\n",
      "        2.74958890e-03+2.47642553e-01j,  3.11143635e-03-2.42988839e-01j,\n",
      "        8.02709569e-04+2.29648123e-01j, -4.09688025e-03-2.38942987e-01j,\n",
      "        2.65152772e-01+0.00000000e+00j,  2.37548032e-01-6.67176336e-03j,\n",
      "        2.43667090e-01+3.44336900e-03j,  2.41386207e-01-1.50448405e-03j],\n",
      "      [-2.34812557e-01-2.30897935e-03j,  2.27821649e-01+1.66277417e-03j,\n",
      "        2.21115177e-01+7.92355819e-03j, -2.30411147e-01-6.17315157e-03j,\n",
      "        1.24076313e-03+2.27772872e-01j, -6.08827226e-04+2.31009358e-01j,\n",
      "        7.38812493e-03-2.26431472e-01j, -5.49092580e-04-2.30693452e-01j,\n",
      "       -5.00416798e-03+2.39959869e-01j,  1.17486177e-03-2.35627896e-01j,\n",
      "       -6.96934326e-04+2.30709065e-01j, -2.55202862e-03-2.28177107e-01j,\n",
      "        2.37548032e-01+6.67176336e-03j,  2.39855258e-01+0.00000000e+00j,\n",
      "        2.26671597e-01+8.79688230e-04j,  2.30254247e-01-3.01658524e-03j],\n",
      "      [-2.41122189e-01-4.13150547e-03j,  2.34005773e-01+3.69222354e-03j,\n",
      "        2.39211503e-01+4.42894283e-03j, -2.27160856e-01-1.35472089e-02j,\n",
      "        4.88730292e-03+2.38571964e-01j, -1.68347778e-03+2.29125466e-01j,\n",
      "       -3.08613121e-03-2.33994159e-01j, -7.90807116e-04-2.34521322e-01j,\n",
      "        3.36932931e-03+2.40109812e-01j,  6.86706867e-03-2.34852375e-01j,\n",
      "       -4.47187970e-03+2.35066962e-01j, -4.85096836e-03-2.33766379e-01j,\n",
      "        2.43667090e-01-3.44336900e-03j,  2.26671597e-01-8.79688230e-04j,\n",
      "        2.49288560e-01+0.00000000e+00j,  2.30145902e-01+2.37094334e-03j],\n",
      "      [-2.27868156e-01+4.05294914e-03j,  2.27229471e-01+3.44695613e-03j,\n",
      "        2.25875150e-01-3.24729125e-03j, -2.29268756e-01-1.45244617e-03j,\n",
      "        4.64240919e-03+2.28733130e-01j, -3.44302048e-03+2.32143814e-01j,\n",
      "        2.07324849e-03-2.28902842e-01j, -1.74658536e-03-2.25973542e-01j,\n",
      "       -3.30869623e-03+2.35312313e-01j,  5.41105667e-03-2.35715204e-01j,\n",
      "        5.78785574e-03+2.33100460e-01j, -1.67849785e-03-2.34395876e-01j,\n",
      "        2.41386207e-01+1.50448405e-03j,  2.30254247e-01+3.01658524e-03j,\n",
      "        2.30145902e-01-2.37094334e-03j,  2.43301434e-01+0.00000000e+00j]],\n",
      "     input_dims=(2, 2), output_dims=(2, 2))\n"
     ]
    }
   ],
   "source": [
    "new_ptf_choi_matrix = new_ptf.fit(method='lstsq')\n",
    "print(new_ptf_choi_matrix)"
   ]
  },
  {
   "cell_type": "code",
   "execution_count": 244,
   "metadata": {},
   "outputs": [
    {
     "name": "stdout",
     "output_type": "stream",
     "text": [
      "0.955843794767455\n"
     ]
    }
   ],
   "source": [
    "fidelity = qi.average_gate_fidelity(new_ptf_choi_matrix,target_unitary)\n",
    "print(fidelity)"
   ]
  },
  {
   "cell_type": "code",
   "execution_count": 245,
   "metadata": {},
   "outputs": [
    {
     "name": "stdout",
     "output_type": "stream",
     "text": [
      "Submitting your answer for lab5/ex5. Please wait...\n",
      "Congratulations 🎉! Your answer is correct and has been submitted.\n"
     ]
    }
   ],
   "source": [
    "from qc_grader import grade_lab5_ex5\n",
    "\n",
    "# Note that the grading function is expecting a floating point number\n",
    "grade_lab5_ex5(fidelity)"
   ]
  },
  {
   "cell_type": "markdown",
   "metadata": {},
   "source": [
    "### Exploratory Question 6.\n",
    "- Test how the gate fidelity depends on the CX duration by running noise models with varying cx durations (but leaving everything else fixed).  \n",
    "\n",
    "(Note: this would ideally be done using the scaling technique discussed in the previous lecture, but due to backend availability limitations we are instead demonstrating the effect by adjusting duration of the CX itself.  This is not exactly how this is implemented on the hardware itself as the gates are not full CX gates.)"
   ]
  },
  {
   "cell_type": "markdown",
   "metadata": {},
   "source": [
    "---"
   ]
  }
 ],
 "metadata": {
  "kernelspec": {
   "display_name": "Python 3",
   "language": "python",
   "name": "python3"
  },
  "language_info": {
   "codemirror_mode": {
    "name": "ipython",
    "version": 3
   },
   "file_extension": ".py",
   "mimetype": "text/x-python",
   "name": "python",
   "nbconvert_exporter": "python",
   "pygments_lexer": "ipython3",
   "version": "3.8.3"
  },
  "toc": {
   "base_numbering": 1,
   "nav_menu": {},
   "number_sections": false,
   "sideBar": true,
   "skip_h1_title": false,
   "title_cell": "Table of Contents 💜",
   "title_sidebar": "Contents",
   "toc_cell": false,
   "toc_position": {},
   "toc_section_display": true,
   "toc_window_display": false
  }
 },
 "nbformat": 4,
 "nbformat_minor": 5
}
